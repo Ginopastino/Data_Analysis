{
 "cells": [
  {
   "cell_type": "markdown",
   "metadata": {},
   "source": [
    "# **Data Visualization Practice**"
   ]
  },
  {
   "cell_type": "markdown",
   "metadata": {},
   "source": [
    "## Utilities"
   ]
  },
  {
   "cell_type": "markdown",
   "metadata": {},
   "source": [
    "## *Datasets*"
   ]
  },
  {
   "cell_type": "code",
   "execution_count": null,
   "metadata": {},
   "outputs": [],
   "source": [
    "# Insert clean & tidy datasets as pickle objects to read from."
   ]
  },
  {
   "cell_type": "markdown",
   "metadata": {},
   "source": [
    "### *Imports*"
   ]
  },
  {
   "cell_type": "code",
   "execution_count": null,
   "metadata": {},
   "outputs": [],
   "source": [
    "# Data Visualization Stack\n",
    "from matplotlib.ticker import FuncFormatter\n",
    "from matplotlib.patches import PathPatch\n",
    "import matplotlib.pyplot as plt\n",
    "import seaborn as sns\n",
    "import plotly.express as px"
   ]
  },
  {
   "cell_type": "markdown",
   "metadata": {},
   "source": [
    "### *Formatting Functions*"
   ]
  },
  {
   "cell_type": "code",
   "execution_count": 2,
   "metadata": {},
   "outputs": [],
   "source": [
    "# Converts dates appropriately.\n",
    "to_datetime = lambda date: datetime.strptime(date, '%m/%d/%Y')\n",
    "\n",
    "# Axes formatting into $ thousands.\n",
    "def thousand_dollars(n, pos):\n",
    "    'The two args are the value and tick position'\n",
    "    return '$%1.1fK' % (n*1e-3)\n",
    "\n",
    "# Axes formatting into $ millions.\n",
    "def million_dollars(n, pos):\n",
    "    'The two args are the value and tick position'\n",
    "    return '$%1.1fM' % (n*1e-6)\n",
    "\n",
    "# Axes formatting into € thousands.\n",
    "def thousand_euro(n, pos):\n",
    "    'The two args are the value and tick position'\n",
    "    return '€%1.1fK' % (n*1e-3)\n",
    "\n",
    "# Axes formatting into € millions.\n",
    "def million_euro(n, pos):\n",
    "    'The two args are the value and tick position'\n",
    "    return '€%1.1fM' % (n*1e-6)\n",
    "\n",
    "# Adjusts axes boxplot width by a factor of choosing.\n",
    "def adjust_box_widths(plot, factor):\n",
    "\n",
    "    # iterating through Axes instances\n",
    "    for axis in plot.axes:\n",
    "\n",
    "        # iterating through axes artists:\n",
    "        for children in axis.get_children():\n",
    "\n",
    "            # searching for PathPatches\n",
    "            if isinstance(children, PathPatch):\n",
    "                # getting current width of box:\n",
    "                p = children.get_path()\n",
    "                verts = p.vertices\n",
    "                verts_sub = verts[:-1]\n",
    "                xmin = np.min(verts_sub[:, 0])\n",
    "                xmax = np.max(verts_sub[:, 0])\n",
    "                xmid = 0.5*(xmin+xmax)\n",
    "                xhalf = 0.5*(xmax - xmin)\n",
    "\n",
    "                # setting new width of box\n",
    "                xmin_new = xmid - factor * xhalf\n",
    "                xmax_new = xmid + factor * xhalf\n",
    "                verts_sub[verts_sub[:, 0] == xmin, 0] = xmin_new\n",
    "                verts_sub[verts_sub[:, 0] == xmax, 0] = xmax_new\n",
    "\n",
    "                # setting new width of median line\n",
    "                for line in axis.lines:\n",
    "                    if np.array_equal(line.get_xdata(), [xmin, xmax]):\n",
    "                        line.set_xdata([xmin_new, xmax_new])\n",
    "\n",
    "# Sets custom floats display for Pandas.\n",
    "pd.options.display.float_format = '{:,.1f}'.format"
   ]
  },
  {
   "cell_type": "markdown",
   "metadata": {},
   "source": [
    "## **Seaborn**"
   ]
  },
  {
   "cell_type": "markdown",
   "metadata": {},
   "source": [
    "### *Violin Plot*"
   ]
  },
  {
   "cell_type": "code",
   "execution_count": null,
   "metadata": {},
   "outputs": [],
   "source": [
    "# Sets general parameters for plotting, e.g. palette and figure size.\n",
    "palette_desaturata = [\"#c6dbef\", \"#fde0dd\"]\n",
    "palette_saturata = [\"#7FCCEC\", \"#FFA7CF\"]\n",
    "sns.set_palette(palette_saturata)\n",
    "plt.figure(figsize = (16, 9))\n",
    "\n",
    "# Initializes the plot object.\n",
    "plot = seaborn.violinplot(\"Data\", x = \"Variable\", y = \"Variable\", hue = \"Variable\", scale = \"count\", split = True, bw = 0.15, linewidth = 1.8, \n",
    "                          #color = \"w\", \n",
    "                          #cut = 0.0\n",
    "                         )\n",
    "\n",
    "# Imposto i parametri e la posizione del titolo\n",
    "plot.axes.set_title(\"Title\", fontsize = 12, weight = 'bold')\n",
    "plot.title.set_position([.5, 1.03])\n",
    "\n",
    "# Imposto i parametri degli assi. Formatto la scala dell'asse y secondo un formato personalizzato definito ad inizio notebook.Imposto la dimensione delle etichette negli assi.\n",
    "plot.set_xlabel(\"X Axis Title\", fontsize = 12, weight = 'bold')\n",
    "plot.set_ylabel('Y Axis Title', fontsize = 12, weight = 'bold')\n",
    "plot.get_yaxis().set_major_formatter(FuncFormatter(thousand_dollars))\n",
    "plot.tick_params(labelsize = 8)\n",
    "\n",
    "# Imposto i parametri della legenda.\n",
    "plot.legend(loc = 'lower center', bbox_to_anchor = (0.5, -0.15), ncol = 2, frameon = False, fontsize = 12)\n",
    "\n",
    "# Salvo il grafico in jpg alla definizione di 600 dpi.\n",
    "plt.savefig(\"Path/file.png\", dpi = 600)"
   ]
  },
  {
   "cell_type": "markdown",
   "metadata": {},
   "source": [
    "### *Ridge Plot*"
   ]
  },
  {
   "cell_type": "code",
   "execution_count": null,
   "metadata": {},
   "outputs": [],
   "source": [
    "# Sets plot style and palette\n",
    "seaborn.set(style = \"white\", rc = {\"axes.facecolor\": (0, 0, 0, 0)})\n",
    "palette = seaborn.cubehelix_palette(10, rot = -0.25, light = 0.7)\n",
    "\n",
    "# Initializes plot object\n",
    "plot = seaborn.FacetGrid(\"Data\", row = \"Variable\", hue = \"Variable\", aspect = 15, height = 3, palette = palette)\n",
    "\n",
    "# Draws kernel density plots\n",
    "plot.map(seaborn.kdeplot, \"Variable\", clip_on = False, shade = True, alpha = 1, lw = 2, bw = 0.15)\n",
    "plot.map(seabotn.kdeplot, \"Variable\", clip_on = False, color = 'w', lw = 2, bw = 0.15)\n",
    "\n",
    "# Sets axes and labels\n",
    "plot.map(plt.axhline, y = 0, lw = 2, clip_on = False, color = 'k')\n",
    "plot.map(label, \"Variable\")\n",
    "\n",
    "# Set the subplots to overlap\n",
    "plot.fig.subplots_adjust(hspace = -0.50)\n",
    "\n",
    "# Remove axes details that don't play well with overlap\n",
    "plot.set_titles(\"\")\n",
    "plot.set(yticks = [])\n",
    "plot.despine(bottom = True, left = True)\n",
    "\n",
    "# Saves the plot object\n",
    "plt.savefig(\"Path/file.png\", dpi = 300)"
   ]
  },
  {
   "cell_type": "markdown",
   "metadata": {},
   "source": [
    "## **Plotly / Plotly Express**"
   ]
  },
  {
   "cell_type": "code",
   "execution_count": null,
   "metadata": {},
   "outputs": [],
   "source": []
  }
 ],
 "metadata": {
  "kernelspec": {
   "display_name": "Python 3",
   "language": "python",
   "name": "python3"
  },
  "language_info": {
   "codemirror_mode": {
    "name": "ipython",
    "version": 3
   },
   "file_extension": ".py",
   "mimetype": "text/x-python",
   "name": "python",
   "nbconvert_exporter": "python",
   "pygments_lexer": "ipython3",
   "version": "3.7.7"
  }
 },
 "nbformat": 4,
 "nbformat_minor": 4
}
