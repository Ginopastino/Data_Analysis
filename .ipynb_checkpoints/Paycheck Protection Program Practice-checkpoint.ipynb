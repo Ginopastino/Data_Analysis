{
 "cells": [
  {
   "cell_type": "markdown",
   "metadata": {},
   "source": [
    "# **USA Paycheck Protection Program 2020 Dataset** \n",
    "\n",
    "# Data Analysis Practice\n"
   ]
  },
  {
   "cell_type": "markdown",
   "metadata": {},
   "source": [
    "## **1. Setup**"
   ]
  },
  {
   "cell_type": "markdown",
   "metadata": {},
   "source": [
    "### Importing libraries"
   ]
  },
  {
   "cell_type": "code",
   "execution_count": 158,
   "metadata": {},
   "outputs": [],
   "source": [
    "# System Imports.\n",
    "import os\n",
    "from datetime import datetime\n",
    "import string\n",
    "\n",
    "# Dataset Profiling Stack.\n",
    "from pandas_profiling import ProfileReport\n",
    "import klib as klib\n",
    "\n",
    "# Data Science Stack.\n",
    "import numpy as np\n",
    "import pandas as pd\n",
    "\n",
    "# Data Visualization Stack\n",
    "from matplotlib.ticker import FuncFormatter\n",
    "from matplotlib.patches import PathPatch\n",
    "import matplotlib.pyplot as plt\n",
    "import seaborn as sns\n",
    "import plotly.express as px\n"
   ]
  },
  {
   "cell_type": "markdown",
   "metadata": {},
   "source": [
    "### Defining functions"
   ]
  },
  {
   "cell_type": "code",
   "execution_count": 159,
   "metadata": {},
   "outputs": [],
   "source": [
    "# Converts dates appropriately.\n",
    "to_datetime = lambda date: datetime.strptime(date, '%m/%d/%Y')\n",
    "\n",
    "# Axes formatting into $ thousands.\n",
    "def thousand_dollars(n, pos):\n",
    "    'The two args are the value and tick position'\n",
    "    return '$%1.1fK' % (n*1e-3)\n",
    "\n",
    "# Axes formatting into $ millions.\n",
    "def million_dollars(n, pos):\n",
    "    'The two args are the value and tick position'\n",
    "    return '$%1.1fM' % (n*1e-6)\n",
    "\n",
    "# Axes formatting into € thousands.\n",
    "def thousand_euro(n, pos):\n",
    "    'The two args are the value and tick position'\n",
    "    return '€%1.1fK' % (n*1e-3)\n",
    "\n",
    "# Axes formatting into € millions.\n",
    "def million_euro(n, pos):\n",
    "    'The two args are the value and tick position'\n",
    "    return '€%1.1fM' % (n*1e-6)\n",
    "\n",
    "# Adjusts axes boxplot widths by a factor of choosing.\n",
    "def adjust_box_widths(plot, factor):\n",
    "\n",
    "    # iterating through Axes instances\n",
    "    for axis in plot.axes:\n",
    "        \n",
    "        # iterating through axes artists:\n",
    "        for children in axis.get_children():\n",
    "            \n",
    "            # searching for PathPatches\n",
    "            if isinstance(children, PathPatch):\n",
    "               \n",
    "                # getting current width of box:\n",
    "                path = children.get_path()\n",
    "                vertices = path.vertices\n",
    "                verts_sub = vertices[:-1]\n",
    "                xmin = np.min(verts_sub[:, 0])\n",
    "                xmax = np.max(verts_sub[:, 0])\n",
    "                xmid = 0.5*(xmin+xmax)\n",
    "                xhalf = 0.5*(xmax - xmin)\n",
    "\n",
    "                # setting new width of box\n",
    "                xmin_new = xmid - factor * xhalf\n",
    "                xmax_new = xmid + factor * xhalf\n",
    "                verts_sub[verts_sub[:, 0] == xmin, 0] = xmin_new\n",
    "                verts_sub[verts_sub[:, 0] == xmax, 0] = xmax_new\n",
    "\n",
    "                # setting new width of median line\n",
    "                for line in axis.lines:\n",
    "                    if np.array_equal(line.get_xdata(), [xmin, xmax]):\n",
    "                        line.set_xdata([xmin_new, xmax_new])\n",
    "                        \n",
    "# Sets custom floats display for Pandas.\n",
    "pd.options.display.float_format = '{:,.1f}'.format"
   ]
  },
  {
   "cell_type": "markdown",
   "metadata": {},
   "source": [
    "## **2. Data Preparation**"
   ]
  },
  {
   "cell_type": "markdown",
   "metadata": {},
   "source": [
    "### 2.1 Data Gathering"
   ]
  },
  {
   "cell_type": "code",
   "execution_count": 175,
   "metadata": {
    "collapsed": true,
    "jupyter": {
     "outputs_hidden": true,
     "source_hidden": true
    },
    "scrolled": true
   },
   "outputs": [
    {
     "data": {
      "text/html": [
       "<div>\n",
       "<style scoped>\n",
       "    .dataframe tbody tr th:only-of-type {\n",
       "        vertical-align: middle;\n",
       "    }\n",
       "\n",
       "    .dataframe tbody tr th {\n",
       "        vertical-align: top;\n",
       "    }\n",
       "\n",
       "    .dataframe thead th {\n",
       "        text-align: right;\n",
       "    }\n",
       "</style>\n",
       "<table border=\"1\" class=\"dataframe\">\n",
       "  <thead>\n",
       "    <tr style=\"text-align: right;\">\n",
       "      <th></th>\n",
       "      <th>LoanAmount</th>\n",
       "      <th>City</th>\n",
       "      <th>State</th>\n",
       "      <th>Zip</th>\n",
       "      <th>NAICSCode</th>\n",
       "      <th>BusinessType</th>\n",
       "      <th>RaceEthnicity</th>\n",
       "      <th>Gender</th>\n",
       "      <th>Veteran</th>\n",
       "      <th>NonProfit</th>\n",
       "      <th>JobsReported</th>\n",
       "      <th>DateApproved</th>\n",
       "      <th>Lender</th>\n",
       "      <th>CD</th>\n",
       "    </tr>\n",
       "  </thead>\n",
       "  <tbody>\n",
       "    <tr>\n",
       "      <th>0</th>\n",
       "      <td>149,927.0</td>\n",
       "      <td>FAIRBANKS</td>\n",
       "      <td>AK</td>\n",
       "      <td>99709</td>\n",
       "      <td>541110</td>\n",
       "      <td>Sole Proprietorship</td>\n",
       "      <td>Unanswered</td>\n",
       "      <td>Male Owned</td>\n",
       "      <td>Unanswered</td>\n",
       "      <td>NaN</td>\n",
       "      <td>11.0</td>\n",
       "      <td>2020-04-08</td>\n",
       "      <td>Northrim Bank</td>\n",
       "      <td>AK-00</td>\n",
       "    </tr>\n",
       "    <tr>\n",
       "      <th>1</th>\n",
       "      <td>149,892.5</td>\n",
       "      <td>JUNEAU</td>\n",
       "      <td>AK</td>\n",
       "      <td>99801</td>\n",
       "      <td>621210</td>\n",
       "      <td>Subchapter S Corporation</td>\n",
       "      <td>Unanswered</td>\n",
       "      <td>Male Owned</td>\n",
       "      <td>Non-Veteran</td>\n",
       "      <td>NaN</td>\n",
       "      <td>9.0</td>\n",
       "      <td>2020-04-27</td>\n",
       "      <td>Northrim Bank</td>\n",
       "      <td>AK-00</td>\n",
       "    </tr>\n",
       "    <tr>\n",
       "      <th>2</th>\n",
       "      <td>149,577.0</td>\n",
       "      <td>JUNEAU</td>\n",
       "      <td>AK</td>\n",
       "      <td>99801</td>\n",
       "      <td>238220</td>\n",
       "      <td>Corporation</td>\n",
       "      <td>Unanswered</td>\n",
       "      <td>Unanswered</td>\n",
       "      <td>Unanswered</td>\n",
       "      <td>NaN</td>\n",
       "      <td>8.0</td>\n",
       "      <td>2020-04-30</td>\n",
       "      <td>Alaska USA FCU</td>\n",
       "      <td>AK-00</td>\n",
       "    </tr>\n",
       "    <tr>\n",
       "      <th>3</th>\n",
       "      <td>149,465.0</td>\n",
       "      <td>ANCHORAGE</td>\n",
       "      <td>AK</td>\n",
       "      <td>99501</td>\n",
       "      <td>813990</td>\n",
       "      <td>Non-Profit Organization</td>\n",
       "      <td>Unanswered</td>\n",
       "      <td>Unanswered</td>\n",
       "      <td>Unanswered</td>\n",
       "      <td>Y</td>\n",
       "      <td>16.0</td>\n",
       "      <td>2020-05-13</td>\n",
       "      <td>Denali State Bank</td>\n",
       "      <td>AK-00</td>\n",
       "    </tr>\n",
       "    <tr>\n",
       "      <th>4</th>\n",
       "      <td>149,300.0</td>\n",
       "      <td>ANCHORAGE</td>\n",
       "      <td>AK</td>\n",
       "      <td>99501</td>\n",
       "      <td>488190</td>\n",
       "      <td>Corporation</td>\n",
       "      <td>Unanswered</td>\n",
       "      <td>Unanswered</td>\n",
       "      <td>Unanswered</td>\n",
       "      <td>NaN</td>\n",
       "      <td>12.0</td>\n",
       "      <td>2020-04-09</td>\n",
       "      <td>Alaska USA FCU</td>\n",
       "      <td>AK-00</td>\n",
       "    </tr>\n",
       "    <tr>\n",
       "      <th>...</th>\n",
       "      <td>...</td>\n",
       "      <td>...</td>\n",
       "      <td>...</td>\n",
       "      <td>...</td>\n",
       "      <td>...</td>\n",
       "      <td>...</td>\n",
       "      <td>...</td>\n",
       "      <td>...</td>\n",
       "      <td>...</td>\n",
       "      <td>...</td>\n",
       "      <td>...</td>\n",
       "      <td>...</td>\n",
       "      <td>...</td>\n",
       "      <td>...</td>\n",
       "    </tr>\n",
       "    <tr>\n",
       "      <th>12205</th>\n",
       "      <td>400.0</td>\n",
       "      <td>CASPER</td>\n",
       "      <td>WY</td>\n",
       "      <td>82601</td>\n",
       "      <td>453220</td>\n",
       "      <td>Sole Proprietorship</td>\n",
       "      <td>Unanswered</td>\n",
       "      <td>Female Owned</td>\n",
       "      <td>Non-Veteran</td>\n",
       "      <td>NaN</td>\n",
       "      <td>2.0</td>\n",
       "      <td>2020-04-28</td>\n",
       "      <td>Western Vista FCU</td>\n",
       "      <td>WY-00</td>\n",
       "    </tr>\n",
       "    <tr>\n",
       "      <th>12206</th>\n",
       "      <td>390.0</td>\n",
       "      <td>LOVELL</td>\n",
       "      <td>WY</td>\n",
       "      <td>82431</td>\n",
       "      <td>561790</td>\n",
       "      <td>Sole Proprietorship</td>\n",
       "      <td>Unanswered</td>\n",
       "      <td>Unanswered</td>\n",
       "      <td>Unanswered</td>\n",
       "      <td>NaN</td>\n",
       "      <td>1.0</td>\n",
       "      <td>2020-04-28</td>\n",
       "      <td>Glacier Bank</td>\n",
       "      <td>WY-00</td>\n",
       "    </tr>\n",
       "    <tr>\n",
       "      <th>12207</th>\n",
       "      <td>377.3</td>\n",
       "      <td>Casper</td>\n",
       "      <td>WY</td>\n",
       "      <td>82604</td>\n",
       "      <td>624410</td>\n",
       "      <td>Sole Proprietorship</td>\n",
       "      <td>Unanswered</td>\n",
       "      <td>Unanswered</td>\n",
       "      <td>Unanswered</td>\n",
       "      <td>NaN</td>\n",
       "      <td>1.0</td>\n",
       "      <td>2020-04-27</td>\n",
       "      <td>Frontier Certified Development Company</td>\n",
       "      <td>WY-00</td>\n",
       "    </tr>\n",
       "    <tr>\n",
       "      <th>12208</th>\n",
       "      <td>330.0</td>\n",
       "      <td>CHEYENNE</td>\n",
       "      <td>WY</td>\n",
       "      <td>82009</td>\n",
       "      <td>236118</td>\n",
       "      <td>Sole Proprietorship</td>\n",
       "      <td>White</td>\n",
       "      <td>Male Owned</td>\n",
       "      <td>Non-Veteran</td>\n",
       "      <td>NaN</td>\n",
       "      <td>1.0</td>\n",
       "      <td>2020-04-28</td>\n",
       "      <td>First Education FCU</td>\n",
       "      <td>WY-00</td>\n",
       "    </tr>\n",
       "    <tr>\n",
       "      <th>12209</th>\n",
       "      <td>260.0</td>\n",
       "      <td>CASPER</td>\n",
       "      <td>WY</td>\n",
       "      <td>82609</td>\n",
       "      <td>623990</td>\n",
       "      <td>Limited  Liability Company(LLC)</td>\n",
       "      <td>White</td>\n",
       "      <td>Female Owned</td>\n",
       "      <td>Unanswered</td>\n",
       "      <td>NaN</td>\n",
       "      <td>1.0</td>\n",
       "      <td>2020-05-01</td>\n",
       "      <td>The Converse County Bank</td>\n",
       "      <td>WY-00</td>\n",
       "    </tr>\n",
       "  </tbody>\n",
       "</table>\n",
       "<p>4549613 rows × 14 columns</p>\n",
       "</div>"
      ],
      "text/plain": [
       "       LoanAmount       City State    Zip NAICSCode  \\\n",
       "0       149,927.0  FAIRBANKS    AK  99709    541110   \n",
       "1       149,892.5     JUNEAU    AK  99801    621210   \n",
       "2       149,577.0     JUNEAU    AK  99801    238220   \n",
       "3       149,465.0  ANCHORAGE    AK  99501    813990   \n",
       "4       149,300.0  ANCHORAGE    AK  99501    488190   \n",
       "...           ...        ...   ...    ...       ...   \n",
       "12205       400.0     CASPER    WY  82601    453220   \n",
       "12206       390.0     LOVELL    WY  82431    561790   \n",
       "12207       377.3     Casper    WY  82604    624410   \n",
       "12208       330.0   CHEYENNE    WY  82009    236118   \n",
       "12209       260.0     CASPER    WY  82609    623990   \n",
       "\n",
       "                          BusinessType RaceEthnicity        Gender  \\\n",
       "0                  Sole Proprietorship    Unanswered    Male Owned   \n",
       "1             Subchapter S Corporation    Unanswered    Male Owned   \n",
       "2                          Corporation    Unanswered    Unanswered   \n",
       "3              Non-Profit Organization    Unanswered    Unanswered   \n",
       "4                          Corporation    Unanswered    Unanswered   \n",
       "...                                ...           ...           ...   \n",
       "12205              Sole Proprietorship    Unanswered  Female Owned   \n",
       "12206              Sole Proprietorship    Unanswered    Unanswered   \n",
       "12207              Sole Proprietorship    Unanswered    Unanswered   \n",
       "12208              Sole Proprietorship         White    Male Owned   \n",
       "12209  Limited  Liability Company(LLC)         White  Female Owned   \n",
       "\n",
       "           Veteran NonProfit  JobsReported DateApproved  \\\n",
       "0       Unanswered       NaN          11.0   2020-04-08   \n",
       "1      Non-Veteran       NaN           9.0   2020-04-27   \n",
       "2       Unanswered       NaN           8.0   2020-04-30   \n",
       "3       Unanswered         Y          16.0   2020-05-13   \n",
       "4       Unanswered       NaN          12.0   2020-04-09   \n",
       "...            ...       ...           ...          ...   \n",
       "12205  Non-Veteran       NaN           2.0   2020-04-28   \n",
       "12206   Unanswered       NaN           1.0   2020-04-28   \n",
       "12207   Unanswered       NaN           1.0   2020-04-27   \n",
       "12208  Non-Veteran       NaN           1.0   2020-04-28   \n",
       "12209   Unanswered       NaN           1.0   2020-05-01   \n",
       "\n",
       "                                       Lender     CD  \n",
       "0                               Northrim Bank  AK-00  \n",
       "1                               Northrim Bank  AK-00  \n",
       "2                              Alaska USA FCU  AK-00  \n",
       "3                           Denali State Bank  AK-00  \n",
       "4                              Alaska USA FCU  AK-00  \n",
       "...                                       ...    ...  \n",
       "12205                       Western Vista FCU  WY-00  \n",
       "12206                            Glacier Bank  WY-00  \n",
       "12207  Frontier Certified Development Company  WY-00  \n",
       "12208                     First Education FCU  WY-00  \n",
       "12209                The Converse County Bank  WY-00  \n",
       "\n",
       "[4549613 rows x 14 columns]"
      ]
     },
     "execution_count": 175,
     "metadata": {},
     "output_type": "execute_result"
    }
   ],
   "source": [
    "# Dataset paths retrieval.\n",
    "files = [file for file in os.listdir('./Datasets/PPP/Data') if file.endswith('.csv')]\n",
    "files = files[2:]\n",
    "\n",
    "# Read retrieved state-data datasets into a list.\n",
    "datasets = []\n",
    "for file in files:\n",
    "    datasets.append(pd.read_csv('./Datasets/PPP/Data/' + file,\n",
    "                                dtype = {'LoanAmount':'float32',\n",
    "                                         'Zip':'string',\n",
    "                                         'State':'string',\n",
    "                                         'City':'string',\n",
    "                                         'NAICSCode':'string',\n",
    "                                         'BusinessType':'string',\n",
    "                                         'RaceEthnicity':'string',\n",
    "                                         'Gender':'string',\n",
    "                                         'Veteran':'string', \n",
    "                                         'JobsReported':'float16',\n",
    "                                         'Lender':'string'}, \n",
    "                                converters = {'DateApproved': to_datetime}))\n",
    "\n",
    "# Concatenates read datasets to form final, country-wide dataset.\n",
    "dataset = pd.concat(datasets)\n",
    "dataset"
   ]
  },
  {
   "cell_type": "markdown",
   "metadata": {},
   "source": [
    "### 2.2 Raw Data Profiling and Inspection"
   ]
  },
  {
   "cell_type": "code",
   "execution_count": 32,
   "metadata": {
    "jupyter": {
     "source_hidden": true
    }
   },
   "outputs": [],
   "source": [
    "# Creates the report in a minimal version without much computational overhead - e.g. correlation matrices and such.\n",
    "report = ProfileReport(dataset, title = \"PPP Profiling Report\", minimal = True)"
   ]
  },
  {
   "cell_type": "code",
   "execution_count": null,
   "metadata": {
    "jupyter": {
     "source_hidden": true
    }
   },
   "outputs": [],
   "source": [
    "# Saves a copy in an html file - IMPROVE FILENAME WITH DATESTAMP -> @Pendulum\n",
    "report.to_file(\"PPP Profiling Report - Raw Dataset.html\") "
   ]
  },
  {
   "cell_type": "markdown",
   "metadata": {},
   "source": [
    "### 2.3 Data Cleaning and Polishing"
   ]
  },
  {
   "cell_type": "code",
   "execution_count": 176,
   "metadata": {
    "jupyter": {
     "source_hidden": true
    }
   },
   "outputs": [],
   "source": [
    "# Dropping redundant columns.\n",
    "columns_to_drop = ['NonProfit', 'CD']\n",
    "dataset.drop(columns_to_drop, axis = 1, inplace = True)"
   ]
  },
  {
   "cell_type": "code",
   "execution_count": 177,
   "metadata": {
    "jupyter": {
     "source_hidden": true
    }
   },
   "outputs": [],
   "source": [
    "# Renaming columns for clarity.\n",
    "columns_renamed = {'LoanAmount':'Loan Amount',\n",
    "                   'NAICSCode':'NAICS',\n",
    "                   'BusinessType': 'Business Type',\n",
    "                   'RaceEthnicity':'Ethnicity',\n",
    "                   'JobsReported':'Jobs Retained',\n",
    "                   'DateApproved':'Date Approved'}\n",
    "dataset.rename(columns_renamed, axis = 1, inplace = True)"
   ]
  },
  {
   "cell_type": "code",
   "execution_count": 178,
   "metadata": {
    "collapsed": true,
    "jupyter": {
     "outputs_hidden": true,
     "source_hidden": true
    }
   },
   "outputs": [
    {
     "data": {
      "text/html": [
       "<div>\n",
       "<style scoped>\n",
       "    .dataframe tbody tr th:only-of-type {\n",
       "        vertical-align: middle;\n",
       "    }\n",
       "\n",
       "    .dataframe tbody tr th {\n",
       "        vertical-align: top;\n",
       "    }\n",
       "\n",
       "    .dataframe thead th {\n",
       "        text-align: right;\n",
       "    }\n",
       "</style>\n",
       "<table border=\"1\" class=\"dataframe\">\n",
       "  <thead>\n",
       "    <tr style=\"text-align: right;\">\n",
       "      <th></th>\n",
       "      <th>Loan Amount</th>\n",
       "      <th>City</th>\n",
       "      <th>State</th>\n",
       "      <th>Zip</th>\n",
       "      <th>NAICS</th>\n",
       "      <th>Business Type</th>\n",
       "      <th>Ethnicity</th>\n",
       "      <th>Gender</th>\n",
       "      <th>Veteran</th>\n",
       "      <th>Jobs Retained</th>\n",
       "      <th>Date Approved</th>\n",
       "      <th>Lender</th>\n",
       "    </tr>\n",
       "  </thead>\n",
       "  <tbody>\n",
       "    <tr>\n",
       "      <th>0</th>\n",
       "      <td>149,927.0</td>\n",
       "      <td>Fairbanks</td>\n",
       "      <td>AK</td>\n",
       "      <td>99709</td>\n",
       "      <td>541110</td>\n",
       "      <td>Sole Proprietorship</td>\n",
       "      <td>N/A</td>\n",
       "      <td>Male Owned</td>\n",
       "      <td>N/A</td>\n",
       "      <td>11.0</td>\n",
       "      <td>2020-04-08</td>\n",
       "      <td>Northrim Bank</td>\n",
       "    </tr>\n",
       "    <tr>\n",
       "      <th>1</th>\n",
       "      <td>149,892.5</td>\n",
       "      <td>Juneau</td>\n",
       "      <td>AK</td>\n",
       "      <td>99801</td>\n",
       "      <td>621210</td>\n",
       "      <td>S Corporation</td>\n",
       "      <td>N/A</td>\n",
       "      <td>Male Owned</td>\n",
       "      <td>Non-Veteran</td>\n",
       "      <td>9.0</td>\n",
       "      <td>2020-04-27</td>\n",
       "      <td>Northrim Bank</td>\n",
       "    </tr>\n",
       "    <tr>\n",
       "      <th>2</th>\n",
       "      <td>149,577.0</td>\n",
       "      <td>Juneau</td>\n",
       "      <td>AK</td>\n",
       "      <td>99801</td>\n",
       "      <td>238220</td>\n",
       "      <td>Corporation</td>\n",
       "      <td>N/A</td>\n",
       "      <td>N/A</td>\n",
       "      <td>N/A</td>\n",
       "      <td>8.0</td>\n",
       "      <td>2020-04-30</td>\n",
       "      <td>Alaska USA FCU</td>\n",
       "    </tr>\n",
       "    <tr>\n",
       "      <th>3</th>\n",
       "      <td>149,465.0</td>\n",
       "      <td>Anchorage</td>\n",
       "      <td>AK</td>\n",
       "      <td>99501</td>\n",
       "      <td>813990</td>\n",
       "      <td>Non-Profit Organization</td>\n",
       "      <td>N/A</td>\n",
       "      <td>N/A</td>\n",
       "      <td>N/A</td>\n",
       "      <td>16.0</td>\n",
       "      <td>2020-05-13</td>\n",
       "      <td>Denali State Bank</td>\n",
       "    </tr>\n",
       "    <tr>\n",
       "      <th>4</th>\n",
       "      <td>149,300.0</td>\n",
       "      <td>Anchorage</td>\n",
       "      <td>AK</td>\n",
       "      <td>99501</td>\n",
       "      <td>488190</td>\n",
       "      <td>Corporation</td>\n",
       "      <td>N/A</td>\n",
       "      <td>N/A</td>\n",
       "      <td>N/A</td>\n",
       "      <td>12.0</td>\n",
       "      <td>2020-04-09</td>\n",
       "      <td>Alaska USA FCU</td>\n",
       "    </tr>\n",
       "    <tr>\n",
       "      <th>...</th>\n",
       "      <td>...</td>\n",
       "      <td>...</td>\n",
       "      <td>...</td>\n",
       "      <td>...</td>\n",
       "      <td>...</td>\n",
       "      <td>...</td>\n",
       "      <td>...</td>\n",
       "      <td>...</td>\n",
       "      <td>...</td>\n",
       "      <td>...</td>\n",
       "      <td>...</td>\n",
       "      <td>...</td>\n",
       "    </tr>\n",
       "    <tr>\n",
       "      <th>12205</th>\n",
       "      <td>400.0</td>\n",
       "      <td>Casper</td>\n",
       "      <td>WY</td>\n",
       "      <td>82601</td>\n",
       "      <td>453220</td>\n",
       "      <td>Sole Proprietorship</td>\n",
       "      <td>N/A</td>\n",
       "      <td>Female Owned</td>\n",
       "      <td>Non-Veteran</td>\n",
       "      <td>2.0</td>\n",
       "      <td>2020-04-28</td>\n",
       "      <td>Western Vista FCU</td>\n",
       "    </tr>\n",
       "    <tr>\n",
       "      <th>12206</th>\n",
       "      <td>390.0</td>\n",
       "      <td>Lovell</td>\n",
       "      <td>WY</td>\n",
       "      <td>82431</td>\n",
       "      <td>561790</td>\n",
       "      <td>Sole Proprietorship</td>\n",
       "      <td>N/A</td>\n",
       "      <td>N/A</td>\n",
       "      <td>N/A</td>\n",
       "      <td>1.0</td>\n",
       "      <td>2020-04-28</td>\n",
       "      <td>Glacier Bank</td>\n",
       "    </tr>\n",
       "    <tr>\n",
       "      <th>12207</th>\n",
       "      <td>377.3</td>\n",
       "      <td>Casper</td>\n",
       "      <td>WY</td>\n",
       "      <td>82604</td>\n",
       "      <td>624410</td>\n",
       "      <td>Sole Proprietorship</td>\n",
       "      <td>N/A</td>\n",
       "      <td>N/A</td>\n",
       "      <td>N/A</td>\n",
       "      <td>1.0</td>\n",
       "      <td>2020-04-27</td>\n",
       "      <td>Frontier Certified Development Company</td>\n",
       "    </tr>\n",
       "    <tr>\n",
       "      <th>12208</th>\n",
       "      <td>330.0</td>\n",
       "      <td>Cheyenne</td>\n",
       "      <td>WY</td>\n",
       "      <td>82009</td>\n",
       "      <td>236118</td>\n",
       "      <td>Sole Proprietorship</td>\n",
       "      <td>White</td>\n",
       "      <td>Male Owned</td>\n",
       "      <td>Non-Veteran</td>\n",
       "      <td>1.0</td>\n",
       "      <td>2020-04-28</td>\n",
       "      <td>First Education FCU</td>\n",
       "    </tr>\n",
       "    <tr>\n",
       "      <th>12209</th>\n",
       "      <td>260.0</td>\n",
       "      <td>Casper</td>\n",
       "      <td>WY</td>\n",
       "      <td>82609</td>\n",
       "      <td>623990</td>\n",
       "      <td>LLC</td>\n",
       "      <td>White</td>\n",
       "      <td>Female Owned</td>\n",
       "      <td>N/A</td>\n",
       "      <td>1.0</td>\n",
       "      <td>2020-05-01</td>\n",
       "      <td>The Converse County Bank</td>\n",
       "    </tr>\n",
       "  </tbody>\n",
       "</table>\n",
       "<p>4135836 rows × 12 columns</p>\n",
       "</div>"
      ],
      "text/plain": [
       "       Loan Amount       City State    Zip   NAICS            Business Type  \\\n",
       "0        149,927.0  Fairbanks    AK  99709  541110      Sole Proprietorship   \n",
       "1        149,892.5     Juneau    AK  99801  621210            S Corporation   \n",
       "2        149,577.0     Juneau    AK  99801  238220              Corporation   \n",
       "3        149,465.0  Anchorage    AK  99501  813990  Non-Profit Organization   \n",
       "4        149,300.0  Anchorage    AK  99501  488190              Corporation   \n",
       "...            ...        ...   ...    ...     ...                      ...   \n",
       "12205        400.0     Casper    WY  82601  453220      Sole Proprietorship   \n",
       "12206        390.0     Lovell    WY  82431  561790      Sole Proprietorship   \n",
       "12207        377.3     Casper    WY  82604  624410      Sole Proprietorship   \n",
       "12208        330.0   Cheyenne    WY  82009  236118      Sole Proprietorship   \n",
       "12209        260.0     Casper    WY  82609  623990                      LLC   \n",
       "\n",
       "      Ethnicity        Gender      Veteran  Jobs Retained Date Approved  \\\n",
       "0           N/A    Male Owned          N/A           11.0    2020-04-08   \n",
       "1           N/A    Male Owned  Non-Veteran            9.0    2020-04-27   \n",
       "2           N/A           N/A          N/A            8.0    2020-04-30   \n",
       "3           N/A           N/A          N/A           16.0    2020-05-13   \n",
       "4           N/A           N/A          N/A           12.0    2020-04-09   \n",
       "...         ...           ...          ...            ...           ...   \n",
       "12205       N/A  Female Owned  Non-Veteran            2.0    2020-04-28   \n",
       "12206       N/A           N/A          N/A            1.0    2020-04-28   \n",
       "12207       N/A           N/A          N/A            1.0    2020-04-27   \n",
       "12208     White    Male Owned  Non-Veteran            1.0    2020-04-28   \n",
       "12209     White  Female Owned          N/A            1.0    2020-05-01   \n",
       "\n",
       "                                       Lender  \n",
       "0                               Northrim Bank  \n",
       "1                               Northrim Bank  \n",
       "2                              Alaska USA FCU  \n",
       "3                           Denali State Bank  \n",
       "4                              Alaska USA FCU  \n",
       "...                                       ...  \n",
       "12205                       Western Vista FCU  \n",
       "12206                            Glacier Bank  \n",
       "12207  Frontier Certified Development Company  \n",
       "12208                     First Education FCU  \n",
       "12209                The Converse County Bank  \n",
       "\n",
       "[4135836 rows x 12 columns]"
      ]
     },
     "execution_count": 178,
     "metadata": {},
     "output_type": "execute_result"
    }
   ],
   "source": [
    "# Some data handling for tidyness and clarity.\n",
    "dataset = dataset[dataset['Loan Amount'] > 0]\n",
    "dataset = dataset[(dataset['State'] != 'XX') & (dataset['State'] != 'AE')]\n",
    "dataset['Business Type'] = dataset['Business Type'].str.replace('  ', ' ')\n",
    "dataset.loc[dataset['Business Type'] == 'Limited Liability Company(LLC)', 'Business Type'] = 'LLC'\n",
    "dataset.loc[dataset['Business Type'] == 'Limited Liability Partnership', 'Business Type'] = 'LLP'\n",
    "dataset.loc[dataset['Business Type'] == 'Subchapter S Corporation', 'Business Type'] = 'S Corporation'\n",
    "dataset.loc[dataset['Business Type'] == 'Employee Stock Ownership Plan(ESOP)', 'Business Type'] = 'ESOP'\n",
    "dataset.loc[dataset['Business Type'] == 'Rollover as Business Start-Ups (ROB', 'Business Type'] = 'ROBs'\n",
    "dataset.loc[dataset['Ethnicity'] == 'Unanswered', 'Ethnicity'] = 'N/A'\n",
    "dataset.loc[dataset['Ethnicity'] == 'Black or African American', 'Ethnicity'] = 'African American'\n",
    "dataset.loc[dataset['Ethnicity'] == 'American Indian or Alaska Native', 'Ethnicity'] = 'Native American'\n",
    "dataset.loc[dataset['Ethnicity'] == 'Puerto Rican', 'Ethnicity'] = 'Hispanic'\n",
    "dataset.loc[dataset['Veteran'] == 'Unanswered', 'Veteran'] = 'N/A'\n",
    "dataset.loc[dataset['Gender'] == 'Unanswered', 'Gender'] = 'N/A'\n",
    "dataset.loc[dataset['Jobs Retained'].isnull() | dataset['Jobs Retained'] < 0, 'Jobs Retained'] = 0.0\n",
    "dataset['City'] = dataset['City'].str.title()\n",
    "dataset.dropna(inplace = True)\n",
    "dataset"
   ]
  },
  {
   "cell_type": "markdown",
   "metadata": {},
   "source": [
    "### 2.4 Data Enhancing, Feature Engineering"
   ]
  },
  {
   "cell_type": "code",
   "execution_count": 179,
   "metadata": {
    "jupyter": {
     "source_hidden": true
    }
   },
   "outputs": [],
   "source": [
    "# Loads the official list of NAICS codes and relative descriptions. There are some void columns to be dropped to prepare the dataframe for merging.\n",
    "naics_codes = pd.read_csv('./Datasets/PPP/Utilities/NAICS.csv', dtype = {'NAICS Code':'string'}, sep = ';')\n",
    "naics_codes.dropna(axis = 1, inplace = True)\n",
    "\n",
    "# Load the official list of Census Regions and Divisions.\n",
    "census_regions = pd.read_csv('./Datasets/PPP/Utilities/Census Regions and Divisions.csv', dtype = {'State':'string', 'State Name':'string', 'Region':'string', 'Division':'string'}, sep = ';')"
   ]
  },
  {
   "cell_type": "code",
   "execution_count": 180,
   "metadata": {
    "jupyter": {
     "source_hidden": true
    }
   },
   "outputs": [],
   "source": [
    "# Creation of the \"Region\", \"Division\" and \"State Name\" fields.\n",
    "dataset = pd.merge(dataset, census_regions, on = 'State', how = 'left')"
   ]
  },
  {
   "cell_type": "code",
   "execution_count": 181,
   "metadata": {
    "jupyter": {
     "source_hidden": true
    }
   },
   "outputs": [],
   "source": [
    "# Creating and managing the \"NAICS6\" and \"Industrial Sector\" fields.\n",
    "naics_codes.rename({'NAICS Code':'NAICS'}, axis = 1, inplace = True)\n",
    "dataset = pd.merge(dataset, naics_codes, on = 'NAICS', how = 'left')\n",
    "dataset.rename({'NAICS':'NAICS6'}, axis = 1, inplace = True)\n",
    "dataset.rename({'Description':'Industrial Sector'}, axis = 1, inplace = True)\n",
    "\n",
    "# Creating and managing the \"NAICS2\" and \"Industry\" fields.\n",
    "dataset['NAICS'] = dataset['NAICS6'].str[0:2]\n",
    "dataset = pd.merge(dataset, naics_codes, on = 'NAICS', how = 'left')\n",
    "dataset.rename({'NAICS':'NAICS2'}, axis = 1, inplace = True)\n",
    "dataset.rename({'Description':'Industry'}, axis = 1, inplace = True)\n",
    "\n",
    "# Creating and managing the \"NAICS4\" and \"Sub-Industry\" fields.\n",
    "dataset['NAICS'] = dataset['NAICS6'].str[0:4]\n",
    "dataset = pd.merge(dataset, naics_codes, on = 'NAICS', how = 'left')\n",
    "dataset.rename({'NAICS':'NAICS4'}, axis = 1, inplace = True)\n",
    "dataset.rename({'Description':'Sub-Industry'}, axis = 1, inplace = True)"
   ]
  },
  {
   "cell_type": "code",
   "execution_count": 182,
   "metadata": {
    "jupyter": {
     "source_hidden": true
    }
   },
   "outputs": [],
   "source": [
    "# Final clean up\n",
    "dataset.dropna(inplace = True)"
   ]
  },
  {
   "cell_type": "code",
   "execution_count": null,
   "metadata": {
    "jupyter": {
     "source_hidden": true
    }
   },
   "outputs": [],
   "source": [
    "# Shuffling columns to improve logical flow of data display.\n",
    "dataset = dataset[['Region',\n",
    "                   'Division',\n",
    "                   'State',\n",
    "                   'State Name',\n",
    "                   'Zip',\n",
    "                   'City',\n",
    "                   'NAICS2',\n",
    "                   'NAICS4',\n",
    "                   'NAICS6',\n",
    "                   'Industry',\n",
    "                   'Sub-Industry',\n",
    "                   'Industrial Sector',\n",
    "                   'Business Type',\n",
    "                   'Ethnicity',\n",
    "                   'Gender',\n",
    "                   'Veteran',\n",
    "                   'Lender',\n",
    "                   'Date Approved',\n",
    "                   'Loan Amount',\n",
    "                   'Jobs Retained']]\n",
    "\n",
    "dataset"
   ]
  },
  {
   "cell_type": "markdown",
   "metadata": {},
   "source": [
    "### 2.5 Post-Processing Dataset Profiling"
   ]
  },
  {
   "cell_type": "code",
   "execution_count": null,
   "metadata": {
    "jupyter": {
     "source_hidden": true
    }
   },
   "outputs": [],
   "source": [
    "report = ProfileReport(dataset, title = \"PPP Profiling Report\", minimal = True)\n",
    "report.to_file(\"PPP Profiling Report - Pre-Processed.html\")"
   ]
  },
  {
   "cell_type": "markdown",
   "metadata": {},
   "source": [
    "### 2.6 Exporting Dataset for Future Work"
   ]
  },
  {
   "cell_type": "code",
   "execution_count": 171,
   "metadata": {},
   "outputs": [],
   "source": [
    "# Exporting to CSV\n",
    "dataset.to_csv('./Datasets/PPP/Data/PPP Data - Final.csv', index = False, sep = ';', float_format = '%.0f')"
   ]
  },
  {
   "cell_type": "code",
   "execution_count": 184,
   "metadata": {},
   "outputs": [],
   "source": [
    "# Exporting to PICKLE\n",
    "dataset.to_pickle('./Datasets/PPP/Data/PPP Data - Final.pkl')"
   ]
  },
  {
   "cell_type": "markdown",
   "metadata": {},
   "source": [
    "## **3. Exploratory Data Analysis**"
   ]
  },
  {
   "cell_type": "markdown",
   "metadata": {},
   "source": [
    "### 3.1 Setup"
   ]
  },
  {
   "cell_type": "code",
   "execution_count": null,
   "metadata": {},
   "outputs": [],
   "source": [
    "# Produces plots inside Jupyter Lab.\n",
    "%matplotlib inline\n",
    "\n",
    "# Reads dataset from pre-saved pickle file.\n",
    "dataset = pd.read_pickle('./Datasets/PPP/Data/PPP Data - Final.pkl')\n",
    "\n",
    "# Sets custom floats display for Pandas.\n",
    "pd.options.display.float_format = '{:,.1f}'.format\n",
    "\n",
    "dataset"
   ]
  },
  {
   "cell_type": "markdown",
   "metadata": {},
   "source": [
    "### **3.2 Plotly**"
   ]
  },
  {
   "cell_type": "markdown",
   "metadata": {},
   "source": [
    "#### Loan Distribution by **Region** and **Gender**"
   ]
  },
  {
   "cell_type": "code",
   "execution_count": null,
   "metadata": {},
   "outputs": [],
   "source": [
    "# Crashes, provide ready-processed dataset directly from pandas/processor and the ingest into plotly?\n",
    "fig = px.box(dataset, y = \"Business Type\", x = \"Loan Amount\")\n",
    "fig.show()"
   ]
  },
  {
   "cell_type": "markdown",
   "metadata": {},
   "source": [
    "### **3.3 Seaborn**"
   ]
  },
  {
   "cell_type": "markdown",
   "metadata": {},
   "source": [
    "#### Loan Amount Distribution by **Region** and **Gender**"
   ]
  },
  {
   "cell_type": "code",
   "execution_count": 141,
   "metadata": {
    "jupyter": {
     "source_hidden": true
    }
   },
   "outputs": [
    {
     "data": {
      "image/png": "[encoded data removed]",
      "text/plain": [
       "<Figure size 1152x648 with 1 Axes>"
      ]
     },
     "metadata": {},
     "output_type": "display_data"
    }
   ],
   "source": [
    "# Initialises plot object.\n",
    "figure = plt.figure(figsize = (16, 9))\n",
    "plot = sns.boxplot(data = dataset, \n",
    "                   x = 'Region', y = 'Loan Amount', hue = 'Gender', \n",
    "                   order = dataset.groupby(by = ['Region'])['Loan Amount'].median().sort_values(ascending = False).index,\n",
    "                   width = 0.7)\n",
    "\n",
    "# Setting general plot styling.\n",
    "adjust_box_widths(figure, 0.8)\n",
    "sns.set_palette(['#7FCCEC','#E0E8F1','#FFA7CF'])\n",
    "\n",
    "# Styles the plot's title and legend.\n",
    "plot.axes.set_title(\"US Paycheck Protection Program — Loan Distribution by Region and Gender\", fontsize = 12, weight = 'bold')\n",
    "plot.title.set_position([.5, 1.03])\n",
    "plot.legend(loc = 'lower center', bbox_to_anchor = (0.5, -0.15), ncol = 3, frameon = False, fontsize = 12)\n",
    "\n",
    "# Sets axes' styling and formats digits into thousands notation.\n",
    "plot.set_xlabel('Region', fontsize = 12, weight = 'bold')\n",
    "plot.set_ylabel('Loan Amount', fontsize = 12, weight = 'bold')\n",
    "plot.tick_params(labelsize = 8)\n",
    "plot.get_yaxis().set_major_formatter(FuncFormatter(thousand_dollars))\n",
    "\n",
    "# Saves the plot into a 600 dpi jpeg file.\n",
    "plt.savefig(\"C:\\\\Users\\\\ginop\\\\OneDrive\\\\Desktop\\\\Box Plot, Loan Amount Distribution by REGION and GENDER.jpg\", dpi = 300)"
   ]
  },
  {
   "cell_type": "markdown",
   "metadata": {},
   "source": [
    "#### Loan Amount Distribution by **Business Type**"
   ]
  },
  {
   "cell_type": "code",
   "execution_count": 186,
   "metadata": {
    "jupyter": {
     "source_hidden": true
    }
   },
   "outputs": [
    {
     "data": {
      "image/png": "[encoded data removed]",
      "text/plain": [
       "<Figure size 1152x648 with 1 Axes>"
      ]
     },
     "metadata": {
      "needs_background": "light"
     },
     "output_type": "display_data"
    }
   ],
   "source": [
    "# Initialises plot object.\n",
    "figure = plt.figure(figsize = (16, 9))\n",
    "\n",
    "plot = sns.boxplot(data = dataset, \n",
    "                   x = 'Loan Amount', y = 'Business Type',\n",
    "                   order = dataset.groupby(by = ['Business Type'])['Loan Amount'].median().sort_values(ascending = False).index,\n",
    "                   width = 0.7, color = '#E0E8F1')\n",
    "\n",
    "# Styles the plot's title and legend.\n",
    "plot.axes.set_title(\"US Paycheck Protection Program — Loan Amount Distribution by Business Type\", fontsize = 12, weight = 'bold')\n",
    "plot.title.set_position([.5, 1.03])\n",
    "\n",
    "plot.set_xlabel('Loan Amount', fontsize = 12, weight = 'bold')\n",
    "plot.set_ylabel('Business Type', fontsize = 12, weight = 'bold')\n",
    "plot.tick_params(labelsize = 8)\n",
    "plot.get_xaxis().set_major_formatter(FuncFormatter(thousand_dollars))\n",
    "\n",
    "# Saves the plot into a 600 dpi jpeg file.\n",
    "plt.savefig(\"C:\\\\Users\\\\ginop\\\\OneDrive\\\\Desktop\\\\Box Plot, Loan Amount Distribution by BUSINESS TYPE.jpg\", dpi = 300)"
   ]
  },
  {
   "cell_type": "markdown",
   "metadata": {},
   "source": [
    "#### Loan Amount Distribution by **Ethnicity** and **Gender**"
   ]
  },
  {
   "cell_type": "code",
   "execution_count": 62,
   "metadata": {
    "jupyter": {
     "source_hidden": true
    }
   },
   "outputs": [
    {
     "data": {
      "image/png": "[encoded data removed]",
      "text/plain": [
       "<Figure size 1152x648 with 1 Axes>"
      ]
     },
     "metadata": {
      "needs_background": "light"
     },
     "output_type": "display_data"
    }
   ],
   "source": [
    "# Setting general plotting styling.\n",
    "plt.figure(figsize = (16, 9))\n",
    "palette_desaturata = [\"#c6dbef\", \"#fde0dd\"]\n",
    "palette_saturata = ['#7FCCEC', '#FFA7CF']\n",
    "sns.set_palette(palette_saturata)\n",
    "\n",
    "context = dataset[(dataset[\"Ethnicity\"] != \"N/A\") & (dataset[\"Ethnicity\"] != \"Multi Group\") & (dataset[\"Ethnicity\"] != \"Eskimo & Aleut\") & (dataset[\"Gender\"] != \"N/A\")]\n",
    "\n",
    "# Initialises plot object.\n",
    "plot = sns.violinplot(data = context,\n",
    "                      x = \"Ethnicity\", y = \"Loan Amount\", hue = \"Gender\", \n",
    "                      split = True, scale = \"count\",\n",
    "                      order = data.groupby(by = ['Ethnicity'])['Loan Amount'].median().sort_values(ascending = False).index,\n",
    "                      bw = 0.15, linewidth = 1.8)\n",
    "\n",
    "# Styles the plot's title and legend.\n",
    "plot.axes.set_title(\"US Paycheck Protection Program — Loan Distribution by Ethnicity and Gender\", fontsize = 12, weight = 'bold')\n",
    "plot.title.set_position([.5, 1.03])\n",
    "plot.legend(loc = 'lower center', bbox_to_anchor = (0.5, -0.15), ncol = 2, frameon = False, fontsize = 12)\n",
    "\n",
    "# Sets axes' styling and formats digits into thousands notation.\n",
    "plot.set_xlabel('Ethnicity', fontsize = 12, weight = 'bold')\n",
    "plot.set_ylabel('Loan Amount', fontsize = 12, weight = 'bold')\n",
    "plot.tick_params(labelsize = 8)\n",
    "plot.get_yaxis().set_major_formatter(FuncFormatter(thousand_dollars))\n",
    "\n",
    "# Saves the plot into a 600 dpi jpeg file.\n",
    "plt.savefig(\"C:\\\\Users\\\\ginop\\\\OneDrive\\\\Desktop\\\\Violin Plot, Loan Amount Distribution by ETHNICITY and GENDER.jpg\", dpi = 300)"
   ]
  }
 ],
 "metadata": {
  "kernelspec": {
   "display_name": "Python 3",
   "language": "python",
   "name": "python3"
  },
  "language_info": {
   "codemirror_mode": {
    "name": "ipython",
    "version": 3
   },
   "file_extension": ".py",
   "mimetype": "text/x-python",
   "name": "python",
   "nbconvert_exporter": "python",
   "pygments_lexer": "ipython3",
   "version": "3.7.7"
  }
 },
 "nbformat": 4,
 "nbformat_minor": 4
}
