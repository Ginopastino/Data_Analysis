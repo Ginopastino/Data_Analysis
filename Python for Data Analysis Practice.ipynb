{
 "cells": [
  {
   "cell_type": "markdown",
   "metadata": {},
   "source": [
    "# **Python for Data Analysis Basics**"
   ]
  },
  {
   "cell_type": "markdown",
   "metadata": {},
   "source": [
    "## Datetime, Loops, If-Else"
   ]
  },
  {
   "cell_type": "code",
   "execution_count": 2,
   "metadata": {},
   "outputs": [],
   "source": [
    "from datetime import datetime, date, time\n",
    "dt = datetime(2011, 10, 29, 20, 30, 21)"
   ]
  },
  {
   "cell_type": "code",
   "execution_count": 3,
   "metadata": {},
   "outputs": [
    {
     "data": {
      "text/plain": [
       "29"
      ]
     },
     "execution_count": 3,
     "metadata": {},
     "output_type": "execute_result"
    }
   ],
   "source": [
    "dt.day"
   ]
  },
  {
   "cell_type": "code",
   "execution_count": 4,
   "metadata": {},
   "outputs": [
    {
     "data": {
      "text/plain": [
       "10"
      ]
     },
     "execution_count": 4,
     "metadata": {},
     "output_type": "execute_result"
    }
   ],
   "source": [
    "dt.month"
   ]
  },
  {
   "cell_type": "code",
   "execution_count": 5,
   "metadata": {},
   "outputs": [
    {
     "data": {
      "text/plain": [
       "2011"
      ]
     },
     "execution_count": 5,
     "metadata": {},
     "output_type": "execute_result"
    }
   ],
   "source": [
    "dt.year"
   ]
  },
  {
   "cell_type": "code",
   "execution_count": 6,
   "metadata": {},
   "outputs": [
    {
     "data": {
      "text/plain": [
       "20"
      ]
     },
     "execution_count": 6,
     "metadata": {},
     "output_type": "execute_result"
    }
   ],
   "source": [
    "dt.hour"
   ]
  },
  {
   "cell_type": "code",
   "execution_count": 7,
   "metadata": {},
   "outputs": [
    {
     "data": {
      "text/plain": [
       "30"
      ]
     },
     "execution_count": 7,
     "metadata": {},
     "output_type": "execute_result"
    }
   ],
   "source": [
    "dt.minute"
   ]
  },
  {
   "cell_type": "code",
   "execution_count": 8,
   "metadata": {},
   "outputs": [
    {
     "data": {
      "text/plain": [
       "21"
      ]
     },
     "execution_count": 8,
     "metadata": {},
     "output_type": "execute_result"
    }
   ],
   "source": [
    "dt.second"
   ]
  },
  {
   "cell_type": "markdown",
   "metadata": {},
   "source": [
    "## Estrarre gli elementi **Date e Time da un oggetto Datetime**"
   ]
  },
  {
   "cell_type": "code",
   "execution_count": 9,
   "metadata": {},
   "outputs": [
    {
     "data": {
      "text/plain": [
       "datetime.date(2011, 10, 29)"
      ]
     },
     "execution_count": 9,
     "metadata": {},
     "output_type": "execute_result"
    }
   ],
   "source": [
    "dt.date()"
   ]
  },
  {
   "cell_type": "code",
   "execution_count": 10,
   "metadata": {},
   "outputs": [
    {
     "data": {
      "text/plain": [
       "datetime.time(20, 30, 21)"
      ]
     },
     "execution_count": 10,
     "metadata": {},
     "output_type": "execute_result"
    }
   ],
   "source": [
    "dt.time()"
   ]
  },
  {
   "cell_type": "markdown",
   "metadata": {},
   "source": [
    "## Conversione **da Datetime a Stringa** e diverse formattazioni"
   ]
  },
  {
   "cell_type": "code",
   "execution_count": 11,
   "metadata": {
    "scrolled": true
   },
   "outputs": [
    {
     "data": {
      "text/plain": [
       "'10/29/2011 20:30'"
      ]
     },
     "execution_count": 11,
     "metadata": {},
     "output_type": "execute_result"
    }
   ],
   "source": [
    "dt.strftime('%m/%d/%Y %H:%M')"
   ]
  },
  {
   "cell_type": "code",
   "execution_count": 12,
   "metadata": {},
   "outputs": [
    {
     "data": {
      "text/plain": [
       "'29/10/2011 20:30'"
      ]
     },
     "execution_count": 12,
     "metadata": {},
     "output_type": "execute_result"
    }
   ],
   "source": [
    "dt.strftime('%d/%m/%Y %H:%M')"
   ]
  },
  {
   "cell_type": "code",
   "execution_count": 13,
   "metadata": {},
   "outputs": [
    {
     "data": {
      "text/plain": [
       "'29/10/2011 20:30 43'"
      ]
     },
     "execution_count": 13,
     "metadata": {},
     "output_type": "execute_result"
    }
   ],
   "source": [
    "dt.strftime('%d/%m/%Y %H:%M %W')"
   ]
  },
  {
   "cell_type": "code",
   "execution_count": 14,
   "metadata": {},
   "outputs": [
    {
     "data": {
      "text/plain": [
       "'43'"
      ]
     },
     "execution_count": 14,
     "metadata": {},
     "output_type": "execute_result"
    }
   ],
   "source": [
    "dt.strftime('%W')"
   ]
  },
  {
   "cell_type": "code",
   "execution_count": 15,
   "metadata": {},
   "outputs": [
    {
     "data": {
      "text/plain": [
       "'10/29/11'"
      ]
     },
     "execution_count": 15,
     "metadata": {},
     "output_type": "execute_result"
    }
   ],
   "source": [
    "dt.strftime('%D')"
   ]
  },
  {
   "cell_type": "markdown",
   "metadata": {},
   "source": [
    "## Conversione **da Stringa a Datetime**"
   ]
  },
  {
   "cell_type": "code",
   "execution_count": 16,
   "metadata": {},
   "outputs": [
    {
     "data": {
      "text/plain": [
       "datetime.datetime(2009, 10, 31, 0, 0)"
      ]
     },
     "execution_count": 16,
     "metadata": {},
     "output_type": "execute_result"
    }
   ],
   "source": [
    "datetime.strptime('20091031', '%Y%m%d')"
   ]
  },
  {
   "cell_type": "markdown",
   "metadata": {},
   "source": [
    "## **Timedelta** e formattazione degli output"
   ]
  },
  {
   "cell_type": "code",
   "execution_count": 17,
   "metadata": {},
   "outputs": [],
   "source": [
    "dt2 = datetime(2011, 11, 15, 22, 30)"
   ]
  },
  {
   "cell_type": "code",
   "execution_count": 18,
   "metadata": {},
   "outputs": [
    {
     "data": {
      "text/plain": [
       "'15/11/2011 22:30 46'"
      ]
     },
     "execution_count": 18,
     "metadata": {},
     "output_type": "execute_result"
    }
   ],
   "source": [
    "dt2.strftime('%d/%m/%Y %H:%M %W')"
   ]
  },
  {
   "cell_type": "code",
   "execution_count": 19,
   "metadata": {},
   "outputs": [
    {
     "data": {
      "text/plain": [
       "datetime.timedelta(days=17, seconds=7179)"
      ]
     },
     "execution_count": 19,
     "metadata": {},
     "output_type": "execute_result"
    }
   ],
   "source": [
    "delta = dt2-dt\n",
    "delta"
   ]
  },
  {
   "cell_type": "code",
   "execution_count": 20,
   "metadata": {},
   "outputs": [
    {
     "data": {
      "text/plain": [
       "1.9941666666666669"
      ]
     },
     "execution_count": 20,
     "metadata": {},
     "output_type": "execute_result"
    }
   ],
   "source": [
    "((delta.seconds)/60)/60"
   ]
  },
  {
   "cell_type": "code",
   "execution_count": 21,
   "metadata": {},
   "outputs": [
    {
     "data": {
      "text/plain": [
       "'17 days and 1.99 hours'"
      ]
     },
     "execution_count": 21,
     "metadata": {},
     "output_type": "execute_result"
    }
   ],
   "source": [
    "str(delta.days) + \" days and \" + f\"{(((delta.seconds)/60)/60):.2f}\" + \" hours\""
   ]
  },
  {
   "cell_type": "code",
   "execution_count": 22,
   "metadata": {},
   "outputs": [
    {
     "data": {
      "text/plain": [
       "'17 days and 1.99 hours'"
      ]
     },
     "execution_count": 22,
     "metadata": {},
     "output_type": "execute_result"
    }
   ],
   "source": [
    "f\"{delta.days}\" + f\"{' days and ' if delta.days > 1 else ' day and '}\" + f\"{(((delta.seconds)/60)/60):.2f}\" + \" hours\""
   ]
  },
  {
   "cell_type": "code",
   "execution_count": 23,
   "metadata": {},
   "outputs": [
    {
     "data": {
      "text/plain": [
       "'15/11/2011 22:30'"
      ]
     },
     "execution_count": 23,
     "metadata": {},
     "output_type": "execute_result"
    }
   ],
   "source": [
    "(dt+delta).strftime('%d/%m/%Y %H:%M')"
   ]
  },
  {
   "cell_type": "markdown",
   "metadata": {},
   "source": [
    "## **Pacchetti/Parser Datetime**\n",
    "\n",
    "I più veloci pacchetti/parser per oggetti Datetime in Python sono Pendulum (https://pendulum.eustace.io/docs/) e Ciso8601 (https://github.com/closeio/ciso8601)."
   ]
  },
  {
   "cell_type": "markdown",
   "metadata": {},
   "source": [
    "# **Loops** e **Keywords**\n",
    "\n",
    "**Continue** esce dal ciclo corrente al verificarsi di una condizione, inizializzando un nuovo ciclo."
   ]
  },
  {
   "cell_type": "code",
   "execution_count": 24,
   "metadata": {},
   "outputs": [
    {
     "data": {
      "text/plain": [
       "12"
      ]
     },
     "execution_count": 24,
     "metadata": {},
     "output_type": "execute_result"
    }
   ],
   "source": [
    "sequence = [1, 2, None, 4, None, 5]\n",
    "total = 0\n",
    "for value in sequence:\n",
    "    if value is None:\n",
    "        continue\n",
    "    total += value\n",
    "total"
   ]
  },
  {
   "cell_type": "markdown",
   "metadata": {},
   "source": [
    "**Break** esce unilateralmente da un loop."
   ]
  },
  {
   "cell_type": "code",
   "execution_count": 25,
   "metadata": {},
   "outputs": [
    {
     "data": {
      "text/plain": [
       "13"
      ]
     },
     "execution_count": 25,
     "metadata": {},
     "output_type": "execute_result"
    }
   ],
   "source": [
    "sequence = [1, 2, 0, 4, 6, 5, 2, 1]\n",
    "total_until_5 = 0 \n",
    "for value in sequence:\n",
    "    if value == 5:\n",
    "        break\n",
    "    total_until_5 += value\n",
    "total_until_5"
   ]
  },
  {
   "cell_type": "markdown",
   "metadata": {},
   "source": [
    "## **Ranges e Loops** "
   ]
  },
  {
   "cell_type": "code",
   "execution_count": 26,
   "metadata": {
    "scrolled": true
   },
   "outputs": [
    {
     "data": {
      "text/plain": [
       "range(0, 10)"
      ]
     },
     "execution_count": 26,
     "metadata": {},
     "output_type": "execute_result"
    }
   ],
   "source": [
    "range(10)"
   ]
  },
  {
   "cell_type": "markdown",
   "metadata": {},
   "source": [
    "Il metodo **list()** converte una stringa o un set in una lista."
   ]
  },
  {
   "cell_type": "code",
   "execution_count": 27,
   "metadata": {},
   "outputs": [
    {
     "data": {
      "text/plain": [
       "[0, 2, 4, 6, 8]"
      ]
     },
     "execution_count": 27,
     "metadata": {},
     "output_type": "execute_result"
    }
   ],
   "source": [
    "list(range(0, 10, 2))"
   ]
  },
  {
   "cell_type": "markdown",
   "metadata": {},
   "source": [
    "La principale funzione di **range()** consiste nel produrre una set che fornisca un set di elementi su cui **iterare** un loop."
   ]
  },
  {
   "cell_type": "code",
   "execution_count": 28,
   "metadata": {},
   "outputs": [
    {
     "data": {
      "text/plain": [
       "2333316668"
      ]
     },
     "execution_count": 28,
     "metadata": {},
     "output_type": "execute_result"
    }
   ],
   "source": [
    "sum = 0\n",
    "for i in range(100000):\n",
    "    if i % 3 == 0 or i % 5 == 0:\n",
    "        sum += i\n",
    "sum"
   ]
  },
  {
   "cell_type": "markdown",
   "metadata": {},
   "source": [
    "## **Combinare blocchi if/else** in espressioni singole: le **Ternary Expressions**\n",
    "\n",
    "#variable = <true expression> if condition else <false expression>"
   ]
  },
  {
   "cell_type": "code",
   "execution_count": 29,
   "metadata": {},
   "outputs": [],
   "source": []
  },
  {
   "cell_type": "code",
   "execution_count": 30,
   "metadata": {},
   "outputs": [
    {
     "data": {
      "text/plain": [
       "'Positive'"
      ]
     },
     "execution_count": 30,
     "metadata": {},
     "output_type": "execute_result"
    }
   ],
   "source": [
    "number = 1\n",
    "sign = 'Positive' if number > 0 else 'Negative'\n",
    "sign"
   ]
  },
  {
   "cell_type": "code",
   "execution_count": 31,
   "metadata": {
    "scrolled": true
   },
   "outputs": [
    {
     "data": {
      "text/plain": [
       "'Negative'"
      ]
     },
     "execution_count": 31,
     "metadata": {},
     "output_type": "execute_result"
    }
   ],
   "source": [
    "number = -2\n",
    "sign = 'Positive' if number > 0 else 'Negative'\n",
    "sign"
   ]
  },
  {
   "cell_type": "markdown",
   "metadata": {},
   "source": [
    "Le **Ternary Expressions** possono essere posizionate ovunque, come mostra l'esempio seguente:"
   ]
  },
  {
   "cell_type": "code",
   "execution_count": 32,
   "metadata": {},
   "outputs": [
    {
     "data": {
      "text/plain": [
       "'17 days and 1.99 hours'"
      ]
     },
     "execution_count": 32,
     "metadata": {},
     "output_type": "execute_result"
    }
   ],
   "source": [
    "f\"{delta.days}\" + f\"{' days and ' if delta.days > 1 else ' day and '}\" + f\"{(((delta.seconds)/60)/60):.2f}\" + \" hours\""
   ]
  },
  {
   "cell_type": "markdown",
   "metadata": {},
   "source": [
    "# **Strutture dati** integrate: **Tuple**, **Liste** e **Dictionaries**"
   ]
  },
  {
   "cell_type": "markdown",
   "metadata": {},
   "source": [
    "## **Tuple**"
   ]
  },
  {
   "cell_type": "markdown",
   "metadata": {},
   "source": [
    "Le tuple sono **sequenze di oggetti**, **immutabili** e di **lunghezza fissa**:"
   ]
  },
  {
   "cell_type": "code",
   "execution_count": 33,
   "metadata": {},
   "outputs": [
    {
     "data": {
      "text/plain": [
       "(0, 1, 2)"
      ]
     },
     "execution_count": 33,
     "metadata": {},
     "output_type": "execute_result"
    }
   ],
   "source": [
    "tupla = 0, 1, 2\n",
    "tupla"
   ]
  },
  {
   "cell_type": "code",
   "execution_count": 34,
   "metadata": {},
   "outputs": [
    {
     "data": {
      "text/plain": [
       "('cacca', 'pupù', 2)"
      ]
     },
     "execution_count": 34,
     "metadata": {},
     "output_type": "execute_result"
    }
   ],
   "source": [
    "tupla = 'cacca', 'pupù', 2\n",
    "tupla"
   ]
  },
  {
   "cell_type": "markdown",
   "metadata": {},
   "source": [
    "E' possibile convertire ogni sequenza o iteratore in una tupla mediante la funzione tuple():"
   ]
  },
  {
   "cell_type": "code",
   "execution_count": 35,
   "metadata": {},
   "outputs": [
    {
     "data": {
      "text/plain": [
       "(0, 1, 2)"
      ]
     },
     "execution_count": 35,
     "metadata": {},
     "output_type": "execute_result"
    }
   ],
   "source": [
    "tuple([0, 1, 2])"
   ]
  },
  {
   "cell_type": "code",
   "execution_count": 36,
   "metadata": {},
   "outputs": [
    {
     "data": {
      "text/plain": [
       "('c', 'a', 'c', 'c', 'a')"
      ]
     },
     "execution_count": 36,
     "metadata": {},
     "output_type": "execute_result"
    }
   ],
   "source": [
    "tupla = tuple('cacca')\n",
    "tupla"
   ]
  },
  {
   "cell_type": "markdown",
   "metadata": {},
   "source": [
    "E' possibile accedere agli elementi di una tupla mediante la notazione **tupla[indice]**, il primo elemento ha sempre indice 0."
   ]
  },
  {
   "cell_type": "code",
   "execution_count": 37,
   "metadata": {},
   "outputs": [
    {
     "data": {
      "text/plain": [
       "'c'"
      ]
     },
     "execution_count": 37,
     "metadata": {},
     "output_type": "execute_result"
    }
   ],
   "source": [
    "tupla[0]"
   ]
  },
  {
   "cell_type": "markdown",
   "metadata": {},
   "source": [
    "Anche se una tupla di per sè è immutabile, ciò non preclude che gli elementi che la compongono siano immutabili:"
   ]
  },
  {
   "cell_type": "code",
   "execution_count": 38,
   "metadata": {},
   "outputs": [
    {
     "data": {
      "text/plain": [
       "(0, ['cacca', 'pupù', 'shit'], 2)"
      ]
     },
     "execution_count": 38,
     "metadata": {},
     "output_type": "execute_result"
    }
   ],
   "source": [
    "tupla = tuple([0, ['cacca', 'pupù'], 2])\n",
    "tupla[1].append('shit')\n",
    "tupla"
   ]
  },
  {
   "cell_type": "markdown",
   "metadata": {},
   "source": [
    "E' possibile usare l'operatore **+** per **concatenare** tuple:"
   ]
  },
  {
   "cell_type": "code",
   "execution_count": 39,
   "metadata": {},
   "outputs": [
    {
     "data": {
      "text/plain": [
       "(0, 1, 2, 3, 4, 5, 6, 7)"
      ]
     },
     "execution_count": 39,
     "metadata": {},
     "output_type": "execute_result"
    }
   ],
   "source": [
    "tupla = (0, 1, 2) + (3, 4) + (5, 6, 7)\n",
    "tupla"
   ]
  },
  {
   "cell_type": "markdown",
   "metadata": {},
   "source": [
    "E' possibile usare l'operatore * per **copiare** una tupla N volte:"
   ]
  },
  {
   "cell_type": "code",
   "execution_count": 40,
   "metadata": {},
   "outputs": [
    {
     "data": {
      "text/plain": [
       "(0, 1, 2, 0, 1, 2)"
      ]
     },
     "execution_count": 40,
     "metadata": {},
     "output_type": "execute_result"
    }
   ],
   "source": [
    "tupla = (0, 1, 2)\n",
    "tupla*2"
   ]
  },
  {
   "cell_type": "markdown",
   "metadata": {},
   "source": [
    "Come tutte le strutture dati, anche le tuple dispongono di metodi, **tuttavia solo di due: count() e index()**. Count() restituisce il numero di istanze dell'argomento nella tupla, se presente.\n"
   ]
  },
  {
   "cell_type": "code",
   "execution_count": 41,
   "metadata": {},
   "outputs": [
    {
     "data": {
      "text/plain": [
       "1"
      ]
     },
     "execution_count": 41,
     "metadata": {},
     "output_type": "execute_result"
    }
   ],
   "source": [
    "tupla.count(2)"
   ]
  },
  {
   "cell_type": "markdown",
   "metadata": {},
   "source": [
    "**Index()** restituisce l'indice dell'argomento nella tupla, se presente."
   ]
  },
  {
   "cell_type": "code",
   "execution_count": 42,
   "metadata": {},
   "outputs": [
    {
     "data": {
      "text/plain": [
       "2"
      ]
     },
     "execution_count": 42,
     "metadata": {},
     "output_type": "execute_result"
    }
   ],
   "source": [
    "tupla.index(2)"
   ]
  },
  {
   "cell_type": "markdown",
   "metadata": {},
   "source": [
    "## **Lists**"
   ]
  },
  {
   "cell_type": "markdown",
   "metadata": {},
   "source": [
    "Le liste sono **sequenze di oggetti**, **modificabili** e di **lunghezza variabile**."
   ]
  },
  {
   "cell_type": "code",
   "execution_count": 43,
   "metadata": {},
   "outputs": [
    {
     "data": {
      "text/plain": [
       "[0, 1, 2, 3, 4, 5]"
      ]
     },
     "execution_count": 43,
     "metadata": {},
     "output_type": "execute_result"
    }
   ],
   "source": [
    "lista = [0, 1, 2, 3, 4, 5]\n",
    "lista"
   ]
  },
  {
   "cell_type": "markdown",
   "metadata": {},
   "source": [
    "### Conversione con **List(tuple/array)**"
   ]
  },
  {
   "cell_type": "markdown",
   "metadata": {},
   "source": [
    "E' possibile convertire facilmente una tupla in una lista, mediante la funzione list():"
   ]
  },
  {
   "cell_type": "code",
   "execution_count": 44,
   "metadata": {},
   "outputs": [
    {
     "data": {
      "text/plain": [
       "['cacca', 'pupù', 'shit']"
      ]
     },
     "execution_count": 44,
     "metadata": {},
     "output_type": "execute_result"
    }
   ],
   "source": [
    "tupla = 'cacca','pupù','shit'\n",
    "lista = list(tupla)\n",
    "lista"
   ]
  },
  {
   "cell_type": "markdown",
   "metadata": {},
   "source": [
    "### Verificare la presenza di un elemento con **In/Not In**"
   ]
  },
  {
   "cell_type": "code",
   "execution_count": 45,
   "metadata": {},
   "outputs": [
    {
     "data": {
      "text/plain": [
       "True"
      ]
     },
     "execution_count": 45,
     "metadata": {},
     "output_type": "execute_result"
    }
   ],
   "source": [
    "'pupù' in lista"
   ]
  },
  {
   "cell_type": "code",
   "execution_count": 46,
   "metadata": {},
   "outputs": [
    {
     "data": {
      "text/plain": [
       "False"
      ]
     },
     "execution_count": 46,
     "metadata": {},
     "output_type": "execute_result"
    }
   ],
   "source": [
    "'pupù' not in lista"
   ]
  },
  {
   "cell_type": "code",
   "execution_count": 47,
   "metadata": {},
   "outputs": [
    {
     "data": {
      "text/plain": [
       "True"
      ]
     },
     "execution_count": 47,
     "metadata": {},
     "output_type": "execute_result"
    }
   ],
   "source": [
    "'merda' not in lista"
   ]
  },
  {
   "cell_type": "markdown",
   "metadata": {},
   "source": [
    "### Modificare una lista: la notazione **[index]**, i metodi **Insert()**, **Append()**, **Extend()** e l'operatore **+**"
   ]
  },
  {
   "cell_type": "markdown",
   "metadata": {},
   "source": [
    "E' possibile **cambiare** un elemento della lista richiamando il suo indice e indicando il nuovo valore:"
   ]
  },
  {
   "cell_type": "code",
   "execution_count": 48,
   "metadata": {},
   "outputs": [
    {
     "data": {
      "text/plain": [
       "['cacca', 'pupù', 'merda']"
      ]
     },
     "execution_count": 48,
     "metadata": {},
     "output_type": "execute_result"
    }
   ],
   "source": [
    "lista[2] = 'merda'\n",
    "lista"
   ]
  },
  {
   "cell_type": "markdown",
   "metadata": {},
   "source": [
    "Il metodo **Insert(*index*, *object*)** consente **l'inserimento** di *object* in posizione *index*, o fra 0 e la lunghezza della lista."
   ]
  },
  {
   "cell_type": "code",
   "execution_count": 49,
   "metadata": {},
   "outputs": [
    {
     "data": {
      "text/plain": [
       "['feci', 'cacca', 'pupù', 'merda']"
      ]
     },
     "execution_count": 49,
     "metadata": {},
     "output_type": "execute_result"
    }
   ],
   "source": [
    "lista.insert(0, 'feci')\n",
    "lista"
   ]
  },
  {
   "cell_type": "markdown",
   "metadata": {},
   "source": [
    "Il metodo **Append(*object*)** consente **l'aggiunta** di *object* **in coda** alla lista."
   ]
  },
  {
   "cell_type": "code",
   "execution_count": 50,
   "metadata": {
    "scrolled": true
   },
   "outputs": [
    {
     "data": {
      "text/plain": [
       "['feci', 'cacca', 'pupù', 'merda', 'stronzi']"
      ]
     },
     "execution_count": 50,
     "metadata": {},
     "output_type": "execute_result"
    }
   ],
   "source": [
    "lista.append('stronzi')\n",
    "lista"
   ]
  },
  {
   "cell_type": "markdown",
   "metadata": {},
   "source": [
    "L'operatore **+** consente la concatenazione di una o più liste:"
   ]
  },
  {
   "cell_type": "code",
   "execution_count": 51,
   "metadata": {},
   "outputs": [
    {
     "data": {
      "text/plain": [
       "['feci', 'cacca', 'pupù', 'merda', 'stronzi', 'toilette', 'water', 'wc']"
      ]
     },
     "execution_count": 51,
     "metadata": {},
     "output_type": "execute_result"
    }
   ],
   "source": [
    "lista + ['toilette'] + ['water', 'wc']"
   ]
  },
  {
   "cell_type": "markdown",
   "metadata": {},
   "source": [
    "La stessa operazione può esser compiuta con il metodo **Extend()** con un carico computazionale inferiore rispetto a **+**."
   ]
  },
  {
   "cell_type": "code",
   "execution_count": 52,
   "metadata": {},
   "outputs": [
    {
     "data": {
      "text/plain": [
       "['feci', 'cacca', 'pupù', 'merda', 'stronzi', 'toilette', 'water', 'wc']"
      ]
     },
     "execution_count": 52,
     "metadata": {},
     "output_type": "execute_result"
    }
   ],
   "source": [
    "lista = ['feci', 'cacca', 'pupù', 'merda', 'stronzi']\n",
    "lista.extend(['toilette','water','wc'])\n",
    "lista"
   ]
  },
  {
   "cell_type": "markdown",
   "metadata": {},
   "source": [
    "### **Rimuovere** un oggetto dalla lista: i metodi **Pop(*index*)** e **Remove(*value*)**"
   ]
  },
  {
   "cell_type": "markdown",
   "metadata": {},
   "source": [
    "Il metodo **Pop(*index*)** rimuove e restituisce l'oggetto in posizione *index*:"
   ]
  },
  {
   "cell_type": "code",
   "execution_count": 53,
   "metadata": {},
   "outputs": [
    {
     "data": {
      "text/plain": [
       "'stronzi'"
      ]
     },
     "execution_count": 53,
     "metadata": {},
     "output_type": "execute_result"
    }
   ],
   "source": [
    "lista.pop(4)"
   ]
  },
  {
   "cell_type": "markdown",
   "metadata": {},
   "source": [
    "Il metodo **Remove(*value*)** cerca e rimuove la prima istanza di value che incontra nella lista."
   ]
  },
  {
   "cell_type": "code",
   "execution_count": 54,
   "metadata": {},
   "outputs": [
    {
     "data": {
      "text/plain": [
       "['feci', 'cacca', 'pupù', 'toilette', 'water', 'wc']"
      ]
     },
     "execution_count": 54,
     "metadata": {},
     "output_type": "execute_result"
    }
   ],
   "source": [
    "lista.remove('merda')\n",
    "lista"
   ]
  },
  {
   "cell_type": "markdown",
   "metadata": {},
   "source": [
    "### **Ordinamento** di una lista con **Sort()**"
   ]
  },
  {
   "cell_type": "markdown",
   "metadata": {},
   "source": [
    "E' possibile ordinare una lista *in-place* con il metodo **Sort()**"
   ]
  },
  {
   "cell_type": "code",
   "execution_count": 55,
   "metadata": {},
   "outputs": [
    {
     "data": {
      "text/plain": [
       "[0, 1, 2, 3, 4, 5, 6, 7, 8, 9]"
      ]
     },
     "execution_count": 55,
     "metadata": {},
     "output_type": "execute_result"
    }
   ],
   "source": [
    "disordinata = [9, 7, 8, 5, 6, 2, 3, 4, 1, 0]\n",
    "disordinata.sort()\n",
    "disordinata"
   ]
  },
  {
   "cell_type": "markdown",
   "metadata": {},
   "source": [
    "**Sort()** può anche prevedere l'utilizzo di una funzione da utilizzare come *sort key*, come la lunghezza (len) di una stringa."
   ]
  },
  {
   "cell_type": "code",
   "execution_count": 56,
   "metadata": {},
   "outputs": [
    {
     "data": {
      "text/plain": [
       "['wc', 'feci', 'pupù', 'cacca', 'water', 'toilette']"
      ]
     },
     "execution_count": 56,
     "metadata": {},
     "output_type": "execute_result"
    }
   ],
   "source": [
    "lista.sort(key = len)\n",
    "lista"
   ]
  },
  {
   "cell_type": "markdown",
   "metadata": {},
   "source": [
    "### **Partizione** di una Lista"
   ]
  },
  {
   "cell_type": "markdown",
   "metadata": {},
   "source": [
    "E' possibile selezionare sezioni di una lista mediante l'utilizzo della notazione **[start : stop]**. Nella notazione **[start : stop]**, l'elemento all'indice start è incluso mentre la sezione conterrà stop-start elementi.\n"
   ]
  },
  {
   "cell_type": "code",
   "execution_count": 57,
   "metadata": {},
   "outputs": [
    {
     "data": {
      "text/plain": [
       "['feci', 'pupù', 'cacca']"
      ]
     },
     "execution_count": 57,
     "metadata": {},
     "output_type": "execute_result"
    }
   ],
   "source": [
    "lista[1:4]"
   ]
  },
  {
   "cell_type": "markdown",
   "metadata": {},
   "source": [
    "E' possibile omettere sia **start** che **stop**, in tal caso la sezione defaulterà all'inizio o alla fine della lista."
   ]
  },
  {
   "cell_type": "code",
   "execution_count": 58,
   "metadata": {},
   "outputs": [
    {
     "data": {
      "text/plain": [
       "['wc', 'feci', 'pupù', 'cacca']"
      ]
     },
     "execution_count": 58,
     "metadata": {},
     "output_type": "execute_result"
    }
   ],
   "source": [
    "lista[:4]"
   ]
  },
  {
   "cell_type": "code",
   "execution_count": 59,
   "metadata": {},
   "outputs": [
    {
     "data": {
      "text/plain": [
       "['feci', 'pupù', 'cacca', 'water', 'toilette']"
      ]
     },
     "execution_count": 59,
     "metadata": {},
     "output_type": "execute_result"
    }
   ],
   "source": [
    "lista[1:]"
   ]
  },
  {
   "cell_type": "markdown",
   "metadata": {},
   "source": [
    "E' anche possibile assegnare uno **step *n*** alla selezione con la seguente notazione **[::*step*]**"
   ]
  },
  {
   "cell_type": "code",
   "execution_count": 60,
   "metadata": {},
   "outputs": [
    {
     "data": {
      "text/plain": [
       "[0, 3, 6, 9]"
      ]
     },
     "execution_count": 60,
     "metadata": {},
     "output_type": "execute_result"
    }
   ],
   "source": [
    "lista = [0, 1, 2, 3, 4, 5, 6, 7, 8, 9]\n",
    "lista[::3]"
   ]
  },
  {
   "cell_type": "markdown",
   "metadata": {},
   "source": [
    "La seguente notazione usa liste, range e slicing in modo creativo per elencare tutti i multipli dello step, fino a ***n*-step**."
   ]
  },
  {
   "cell_type": "code",
   "execution_count": 61,
   "metadata": {},
   "outputs": [
    {
     "data": {
      "text/plain": [
       "[0, 5, 10, 15, 20, 25, 30, 35]"
      ]
     },
     "execution_count": 61,
     "metadata": {},
     "output_type": "execute_result"
    }
   ],
   "source": [
    "list(range(0, 40))[0::5]"
   ]
  },
  {
   "cell_type": "markdown",
   "metadata": {},
   "source": [
    "Invece la notazione **[::-1]** produrrà l'inversione della lista."
   ]
  },
  {
   "cell_type": "code",
   "execution_count": 62,
   "metadata": {},
   "outputs": [
    {
     "data": {
      "text/plain": [
       "[9, 8, 7, 6, 5, 4, 3, 2, 1, 0]"
      ]
     },
     "execution_count": 62,
     "metadata": {},
     "output_type": "execute_result"
    }
   ],
   "source": [
    "lista[::-1]"
   ]
  },
  {
   "cell_type": "markdown",
   "metadata": {},
   "source": [
    "## **Dictionaries**\n",
    "\n",
    "Una delle più importanti strutture dati in Python, i Dizionari sono delle collezioni di coppie **chiave-valore**, di lunghezza variabile, dove sia **chiave** che **valore** sono degli oggetti di Python. Un dizionario è inizializzato mediante parentesi grafe **{ }**, mentre i suoi elementi sono rappresentati come **{chiave1:valore1, chiave2:valore2}**, separati da virgole. Similmente a liste e tuple, si accedeno, inseriscono o settano elementi di un dizionario con la notazione **[ ]**.\n",
    " \n"
   ]
  },
  {
   "cell_type": "code",
   "execution_count": 63,
   "metadata": {},
   "outputs": [
    {
     "data": {
      "text/plain": [
       "{'a': 'un valore', 'b': 'un altro valore'}"
      ]
     },
     "execution_count": 63,
     "metadata": {},
     "output_type": "execute_result"
    }
   ],
   "source": [
    "dizionario = {\"a\" : \"un valore\", \"b\" : \"un altro valore\" }\n",
    "dizionario"
   ]
  },
  {
   "cell_type": "code",
   "execution_count": 64,
   "metadata": {},
   "outputs": [
    {
     "data": {
      "text/plain": [
       "'un valore'"
      ]
     },
     "execution_count": 64,
     "metadata": {},
     "output_type": "execute_result"
    }
   ],
   "source": [
    "dizionario['a']"
   ]
  },
  {
   "cell_type": "code",
   "execution_count": 65,
   "metadata": {},
   "outputs": [
    {
     "data": {
      "text/plain": [
       "{'a': 'un valore', 'b': 'un altro valore', 'c': 'un ulteriore valore'}"
      ]
     },
     "execution_count": 65,
     "metadata": {},
     "output_type": "execute_result"
    }
   ],
   "source": [
    "dizionario['c'] = 'un ulteriore valore'\n",
    "dizionario"
   ]
  },
  {
   "cell_type": "markdown",
   "metadata": {},
   "source": [
    "Si controlla la presenza o meno di una chiave con la stessa notazione delle liste:"
   ]
  },
  {
   "cell_type": "code",
   "execution_count": 66,
   "metadata": {},
   "outputs": [
    {
     "data": {
      "text/plain": [
       "True"
      ]
     },
     "execution_count": 66,
     "metadata": {},
     "output_type": "execute_result"
    }
   ],
   "source": [
    "'a' in dizionario"
   ]
  },
  {
   "cell_type": "markdown",
   "metadata": {},
   "source": [
    "E' possibile eliminare dei valori da un dizionario mediante la chiave ***del*** oppoure il metodo **pop()**."
   ]
  },
  {
   "cell_type": "code",
   "execution_count": 67,
   "metadata": {},
   "outputs": [
    {
     "data": {
      "text/plain": [
       "{'a': 'un valore', 'b': 'un altro valore'}"
      ]
     },
     "execution_count": 67,
     "metadata": {},
     "output_type": "execute_result"
    }
   ],
   "source": [
    "del dizionario['c']\n",
    "dizionario"
   ]
  },
  {
   "cell_type": "code",
   "execution_count": 68,
   "metadata": {},
   "outputs": [
    {
     "data": {
      "text/plain": [
       "'un altro valore'"
      ]
     },
     "execution_count": 68,
     "metadata": {},
     "output_type": "execute_result"
    }
   ],
   "source": [
    "dizionario.pop('b')"
   ]
  },
  {
   "cell_type": "code",
   "execution_count": 69,
   "metadata": {},
   "outputs": [
    {
     "data": {
      "text/plain": [
       "{'a': 'un valore'}"
      ]
     },
     "execution_count": 69,
     "metadata": {},
     "output_type": "execute_result"
    }
   ],
   "source": [
    "dizionario"
   ]
  },
  {
   "cell_type": "markdown",
   "metadata": {},
   "source": [
    "I metodi **keys()** e **values()** forniscono **iteratori** rispettivamente delle *chiavi* e dei *valori* del dizionario: "
   ]
  },
  {
   "cell_type": "code",
   "execution_count": 70,
   "metadata": {},
   "outputs": [
    {
     "data": {
      "text/plain": [
       "['a', 'b', 'c']"
      ]
     },
     "execution_count": 70,
     "metadata": {},
     "output_type": "execute_result"
    }
   ],
   "source": [
    "dizionario = {'a': 'un valore', 'b': 'un altro valore', 'c': 'un ulteriore valore'}\n",
    "list(dizionario.keys())"
   ]
  },
  {
   "cell_type": "code",
   "execution_count": 71,
   "metadata": {},
   "outputs": [
    {
     "data": {
      "text/plain": [
       "['un valore', 'un altro valore', 'un ulteriore valore']"
      ]
     },
     "execution_count": 71,
     "metadata": {},
     "output_type": "execute_result"
    }
   ],
   "source": [
    "list(dizionario.values())"
   ]
  },
  {
   "cell_type": "markdown",
   "metadata": {},
   "source": [
    "Il metodo **update()** permette di unire un dizionario ad un altro, con un operazione *in-place*: "
   ]
  },
  {
   "cell_type": "code",
   "execution_count": 72,
   "metadata": {},
   "outputs": [
    {
     "data": {
      "text/plain": [
       "{'a': 'un valore',\n",
       " 'b': 'un altro valore',\n",
       " 'c': 'un ulteriore valore',\n",
       " 'd': 'un altro valore ancora',\n",
       " 'e': 'un ultimo valore'}"
      ]
     },
     "execution_count": 72,
     "metadata": {},
     "output_type": "execute_result"
    }
   ],
   "source": [
    "dizionario.update({'d': 'un altro valore ancora', 'e': 'un ultimo valore'})\n",
    "dizionario"
   ]
  },
  {
   "cell_type": "markdown",
   "metadata": {},
   "source": [
    "## **Set**\n",
    "\n",
    "Un set è una **collezione inordinata di elementi unici**. Un **set** può esser creato in due modi:\n",
    "\n",
    "- Mediante la funzione **set()**;\n",
    "- Mediante la notazione **{}**;"
   ]
  },
  {
   "cell_type": "code",
   "execution_count": 73,
   "metadata": {},
   "outputs": [
    {
     "data": {
      "text/plain": [
       "{1, 2, 3}"
      ]
     },
     "execution_count": 73,
     "metadata": {},
     "output_type": "execute_result"
    }
   ],
   "source": [
    "esempio = set([2, 2, 2, 1, 3, 3])\n",
    "esempio"
   ]
  },
  {
   "cell_type": "code",
   "execution_count": 74,
   "metadata": {},
   "outputs": [
    {
     "data": {
      "text/plain": [
       "{1, 2, 3}"
      ]
     },
     "execution_count": 74,
     "metadata": {},
     "output_type": "execute_result"
    }
   ],
   "source": [
    "esempio = {2, 2, 2, 1, 3, 3}\n",
    "esempio"
   ]
  },
  {
   "cell_type": "markdown",
   "metadata": {},
   "source": [
    "I set supportano operazioni matematiche come:"
   ]
  },
  {
   "cell_type": "code",
   "execution_count": 75,
   "metadata": {},
   "outputs": [],
   "source": [
    "a = {1, 2, 3, 4, 5}\n",
    "b = {3, 4, 5, 6, 7, 8}"
   ]
  },
  {
   "cell_type": "markdown",
   "metadata": {},
   "source": [
    "**UNIONE**, cioè il set composto dagli elementi unici distinti presenti nei set di partenza. Si può calcolare con il metodo **union()** oppure con l'operatore **|**. La formula **|=** corrisponde alla versione *in place* dell'operazione."
   ]
  },
  {
   "cell_type": "code",
   "execution_count": 76,
   "metadata": {
    "scrolled": true
   },
   "outputs": [
    {
     "data": {
      "text/plain": [
       "{1, 2, 3, 4, 5, 6, 7, 8}"
      ]
     },
     "execution_count": 76,
     "metadata": {},
     "output_type": "execute_result"
    }
   ],
   "source": [
    "a.union(b)"
   ]
  },
  {
   "cell_type": "code",
   "execution_count": 77,
   "metadata": {},
   "outputs": [
    {
     "data": {
      "text/plain": [
       "{1, 2, 3, 4, 5, 6, 7, 8}"
      ]
     },
     "execution_count": 77,
     "metadata": {},
     "output_type": "execute_result"
    }
   ],
   "source": [
    "a | b"
   ]
  },
  {
   "cell_type": "markdown",
   "metadata": {},
   "source": [
    "**INTERSEZIONE**, il set composto dagli elementi comuni presenti nei set di partenza. Si calcola con il metodo **intersection()** oppure con l'operatore **&**. La formula **&=** corisponde alla versione *in place* dell'operazione."
   ]
  },
  {
   "cell_type": "code",
   "execution_count": 78,
   "metadata": {},
   "outputs": [
    {
     "data": {
      "text/plain": [
       "{3, 4, 5}"
      ]
     },
     "execution_count": 78,
     "metadata": {},
     "output_type": "execute_result"
    }
   ],
   "source": [
    "a.intersection(b)"
   ]
  },
  {
   "cell_type": "code",
   "execution_count": 79,
   "metadata": {},
   "outputs": [
    {
     "data": {
      "text/plain": [
       "{3, 4, 5}"
      ]
     },
     "execution_count": 79,
     "metadata": {},
     "output_type": "execute_result"
    }
   ],
   "source": [
    "a & b"
   ]
  },
  {
   "cell_type": "markdown",
   "metadata": {},
   "source": [
    "**DIFFERENZA**, il set composto dagli elementi di A che non sono in B. Si calcola con il metodo **difference()** oppure con l'operatore **-**. La formula **-=** corrisponde alla versione *in place* dell'operazione."
   ]
  },
  {
   "cell_type": "code",
   "execution_count": 80,
   "metadata": {},
   "outputs": [
    {
     "data": {
      "text/plain": [
       "{1, 2}"
      ]
     },
     "execution_count": 80,
     "metadata": {},
     "output_type": "execute_result"
    }
   ],
   "source": [
    "a.difference(b)"
   ]
  },
  {
   "cell_type": "code",
   "execution_count": 81,
   "metadata": {},
   "outputs": [
    {
     "data": {
      "text/plain": [
       "{1, 2}"
      ]
     },
     "execution_count": 81,
     "metadata": {},
     "output_type": "execute_result"
    }
   ],
   "source": [
    "a - b"
   ]
  },
  {
   "cell_type": "markdown",
   "metadata": {},
   "source": [
    "**DIFFERENZA SIMMETRICA**, il set composto dagli elementi di A e B, tranne quelli in comune. Si calcola con il metodo **symmetric_difference()** o con l'operatore **^**. La formula **^=** corrisponde alla versione *in place* dell'operazione."
   ]
  },
  {
   "cell_type": "code",
   "execution_count": 83,
   "metadata": {},
   "outputs": [
    {
     "data": {
      "text/plain": [
       "{1, 2, 6, 7, 8}"
      ]
     },
     "execution_count": 83,
     "metadata": {},
     "output_type": "execute_result"
    }
   ],
   "source": [
    "a.symmetric_difference(b)"
   ]
  },
  {
   "cell_type": "code",
   "execution_count": 84,
   "metadata": {},
   "outputs": [
    {
     "data": {
      "text/plain": [
       "{1, 2, 6, 7, 8}"
      ]
     },
     "execution_count": 84,
     "metadata": {},
     "output_type": "execute_result"
    }
   ],
   "source": [
    "a ^ b"
   ]
  },
  {
   "cell_type": "markdown",
   "metadata": {},
   "source": [
    "Il metodo **a.issubset(b)** restituisce **TRUE** se gli elementi di A sono tutti contenuti in B."
   ]
  },
  {
   "cell_type": "code",
   "execution_count": 85,
   "metadata": {},
   "outputs": [
    {
     "data": {
      "text/plain": [
       "False"
      ]
     },
     "execution_count": 85,
     "metadata": {},
     "output_type": "execute_result"
    }
   ],
   "source": [
    "a.issubset(b)"
   ]
  },
  {
   "cell_type": "markdown",
   "metadata": {},
   "source": [
    "Il medoto **a.issuperset(b)** restituisce **TRUE** se gli elementi di B sono tutti contenuti in A. "
   ]
  },
  {
   "cell_type": "code",
   "execution_count": 86,
   "metadata": {
    "scrolled": true
   },
   "outputs": [
    {
     "data": {
      "text/plain": [
       "False"
      ]
     },
     "execution_count": 86,
     "metadata": {},
     "output_type": "execute_result"
    }
   ],
   "source": [
    "a.issuperset(b)"
   ]
  },
  {
   "cell_type": "markdown",
   "metadata": {},
   "source": [
    "## **Collections (List, Set and Dictionary) Comprehensions**\n",
    "\n",
    "Consentono di formare una nuova collezione filtrando gli elementi o trasformandoli in una singola espressione concisa. La forma base di una collection comprehension è:\n",
    "\n",
    "**[** *expression* **for** *value* **in** *collection* **if** *condition* **]**\n",
    "\n",
    "Equivalente al ciclo **for** seguente:"
   ]
  },
  {
   "cell_type": "code",
   "execution_count": null,
   "metadata": {},
   "outputs": [],
   "source": [
    "risultato = []\n",
    "for value in collection:\n",
    "    if condition\n",
    "        result.append(expression)"
   ]
  },
  {
   "cell_type": "markdown",
   "metadata": {},
   "source": [
    "### **Simple List Comprehension**"
   ]
  },
  {
   "cell_type": "code",
   "execution_count": 89,
   "metadata": {
    "scrolled": true
   },
   "outputs": [
    {
     "data": {
      "text/plain": [
       "['BAT', 'CAR', 'DOVE', 'PYTHON']"
      ]
     },
     "execution_count": 89,
     "metadata": {},
     "output_type": "execute_result"
    }
   ],
   "source": [
    "esempio = ['a', 'as', 'bat', 'car', 'dove', 'python']\n",
    "esempio = [word.upper() for word in esempio if len(word) > 2]\n",
    "esempio"
   ]
  },
  {
   "cell_type": "markdown",
   "metadata": {},
   "source": [
    "### **Nested List Comprehension**"
   ]
  },
  {
   "cell_type": "markdown",
   "metadata": {},
   "source": [
    "La seguente comprehension:"
   ]
  },
  {
   "cell_type": "code",
   "execution_count": 91,
   "metadata": {},
   "outputs": [
    {
     "data": {
      "text/plain": [
       "[1, 2, 3, 4, 5, 6, 7, 8, 9]"
      ]
     },
     "execution_count": 91,
     "metadata": {},
     "output_type": "execute_result"
    }
   ],
   "source": [
    "lista_tuple = [(1, 2, 3), (4, 5, 6), (7, 8, 9)]\n",
    "risultato = [numero for tupla in lista_tuple for numero in tupla]\n",
    "risultato"
   ]
  },
  {
   "cell_type": "markdown",
   "metadata": {},
   "source": [
    "Corrisponde ai cicli annidati:"
   ]
  },
  {
   "cell_type": "code",
   "execution_count": 93,
   "metadata": {},
   "outputs": [
    {
     "data": {
      "text/plain": [
       "[1, 2, 3, 4, 5, 6, 7, 8, 9]"
      ]
     },
     "execution_count": 93,
     "metadata": {},
     "output_type": "execute_result"
    }
   ],
   "source": [
    "risultato = []\n",
    "\n",
    "for tupla in lista_tuple:\n",
    "    for numero in tupla:\n",
    "        risultato.append(numero)\n",
    "risultato\n",
    "        "
   ]
  },
  {
   "cell_type": "markdown",
   "metadata": {},
   "source": [
    "### **Dictionary Comprehension**\n",
    "\n",
    "**{** *chiave-espressione* **:** *valore-espressione* **for** *valore* **in** *collezione* **if** *condizione* **}**\n",
    "\n",
    "La comprehension seguente mappa in un dizionario la locazione delle stringhe nella lista *esempio*:"
   ]
  },
  {
   "cell_type": "code",
   "execution_count": 94,
   "metadata": {},
   "outputs": [
    {
     "data": {
      "text/plain": [
       "{'a': 0, 'as': 1, 'bat': 2, 'car': 3, 'dove': 4, 'python': 5}"
      ]
     },
     "execution_count": 94,
     "metadata": {},
     "output_type": "execute_result"
    }
   ],
   "source": [
    "esempio = ['a', 'as', 'bat', 'car', 'dove', 'python']\n",
    "mappatura_stringhe = {valore : indice for indice, valore in enumerate(esempio)}\n",
    "mappatura_stringhe"
   ]
  },
  {
   "cell_type": "markdown",
   "metadata": {},
   "source": [
    "# **Funzioni**: sono **Oggetti**!\n",
    "\n",
    "Si consideri il seguente esempio:"
   ]
  },
  {
   "cell_type": "code",
   "execution_count": 2,
   "metadata": {},
   "outputs": [
    {
     "data": {
      "text/plain": [
       "['Alabama',\n",
       " 'Georgia',\n",
       " 'Georgia',\n",
       " 'Florida',\n",
       " 'South  Carolina',\n",
       " 'West Virginia']"
      ]
     },
     "execution_count": 2,
     "metadata": {},
     "output_type": "execute_result"
    }
   ],
   "source": [
    "import re\n",
    "\n",
    "stati = [' Alabama ','Georgia!', 'georgia', 'FlOrida', 'south  carolina##', 'West virginia?']\n",
    "\n",
    "def remove_punctuation(value):\n",
    "    return re.sub('[!#?]', '', value)\n",
    "\n",
    "def clean_strings(strings, pipeline):\n",
    "    result = []\n",
    "    for value in strings:\n",
    "        for function in pipeline:\n",
    "            value = function(value)\n",
    "        result.append(value)\n",
    "    return result\n",
    "\n",
    "cleaning_pipeline = [str.strip, remove_punctuation, str.title]\n",
    "\n",
    "clean_strings(stati, cleaning_pipeline)"
   ]
  },
  {
   "cell_type": "markdown",
   "metadata": {},
   "source": [
    "## Funzioni **Lambda**\n",
    "\n",
    "Le funzioni *anonime* o **lambda** costituiscono un metodo di definizione di funzioni che consistono di una sola espressione, il risultato della quale è il **return value**. La funzione *lambda* seguente ordina una lista di stringhe per il numero di lettere distinte in ogni stringa: "
   ]
  },
  {
   "cell_type": "code",
   "execution_count": 4,
   "metadata": {},
   "outputs": [
    {
     "data": {
      "text/plain": [
       "['cacca', 'pupù', 'shit', 'merda', 'water', 'toilette']"
      ]
     },
     "execution_count": 4,
     "metadata": {},
     "output_type": "execute_result"
    }
   ],
   "source": [
    "stringhe = ['cacca', 'pupù', 'merda', 'shit', 'water', 'toilette']\n",
    "stringhe.sort(key = lambda x: len(set(list(x))))\n",
    "stringhe"
   ]
  },
  {
   "cell_type": "markdown",
   "metadata": {},
   "source": [
    "## **Iterators** e **Generators**\n",
    "\n",
    "Una delle feature più importanti di Python è la possibilità di iterare su sequenze o collezioni: come i caratteri di una stringa, gli oggetti contenuti una lista, le chiavi di un dizionario, oppure le righe di un file. In Python un **Iteratore** è ogni oggetto che possa consegnare oggetti all'interprete di quando viene invocato nel contesto di un *ciclo for*."
   ]
  },
  {
   "cell_type": "code",
   "execution_count": 1,
   "metadata": {},
   "outputs": [
    {
     "name": "stdout",
     "output_type": "stream",
     "text": [
      "a\n",
      "b\n",
      "c\n"
     ]
    }
   ],
   "source": [
    "dizionario = {'a': 1, 'b': 2, 'c': 3, 'b': 4}\n",
    "\n",
    "for chiave in dizionario:\n",
    "    print(chiave)"
   ]
  },
  {
   "cell_type": "code",
   "execution_count": 2,
   "metadata": {},
   "outputs": [
    {
     "data": {
      "text/plain": [
       "['a', 'b', 'c']"
      ]
     },
     "execution_count": 2,
     "metadata": {},
     "output_type": "execute_result"
    }
   ],
   "source": [
    "list(iter(dizionario))"
   ]
  },
  {
   "cell_type": "markdown",
   "metadata": {},
   "source": [
    "I **Generators** e le **Generator Expressions** costituiscono delle modalità concise tramite le quali costruire dei nuovi **Iteratori**. A differenza delle comuni funzioni, un generatore restituise risultati multipli, si dice in modalità **lazy** e cioè pausando fra un risultato ed un altro, finchè il prossimo sarà richiesto."
   ]
  },
  {
   "cell_type": "code",
   "execution_count": 10,
   "metadata": {},
   "outputs": [
    {
     "name": "stdout",
     "output_type": "stream",
     "text": [
      "Generazione dei quadrati da 1 a 100\n",
      "1 4 9 16 25 36 49 64 81 100 "
     ]
    }
   ],
   "source": [
    "def squares(n):\n",
    "    print('Generazione dei quadrati da 1 a {0}'.format(n**2))\n",
    "    for i in range(1, n+1):\n",
    "        yield i**2\n",
    "        \n",
    "for x in squares(10):\n",
    "    print(x, end=' ')"
   ]
  },
  {
   "cell_type": "code",
   "execution_count": 19,
   "metadata": {},
   "outputs": [
    {
     "data": {
      "text/plain": [
       "([1, 4, 9, 16, 25, 36, 49, 64, 81, 100], 385)"
      ]
     },
     "execution_count": 19,
     "metadata": {},
     "output_type": "execute_result"
    }
   ],
   "source": [
    "generator_expression = list(x**2 for x in range(1, 11))\n",
    "generator_expression, sum(generator_expression)"
   ]
  },
  {
   "cell_type": "markdown",
   "metadata": {},
   "source": [
    "Le **Generator Expressions** possono anche essere usate in luogo di una **List Comprehension** come argomenti di una funzione:"
   ]
  },
  {
   "cell_type": "code",
   "execution_count": 18,
   "metadata": {},
   "outputs": [
    {
     "data": {
      "text/plain": [
       "385"
      ]
     },
     "execution_count": 18,
     "metadata": {},
     "output_type": "execute_result"
    }
   ],
   "source": [
    "sum(x**2 for x in range(1, 11))"
   ]
  },
  {
   "cell_type": "code",
   "execution_count": 1,
   "metadata": {},
   "outputs": [
    {
     "data": {
      "text/plain": [
       "{1: 1, 2: 4, 3: 9, 4: 16, 5: 25, 6: 36, 7: 49, 8: 64, 9: 81, 10: 100}"
      ]
     },
     "execution_count": 1,
     "metadata": {},
     "output_type": "execute_result"
    }
   ],
   "source": [
    "dict((x, x**2) for x in range(1, 11))"
   ]
  },
  {
   "cell_type": "markdown",
   "metadata": {},
   "source": [
    "# Errori ed Eccezioni.\n",
    "\n",
    "In Python le eccezioni si gestiscono mediante una serie di blocchi così distinta:\n",
    "\n",
    "- **try:**\n",
    "- **except:**\n",
    "- **else:**\n",
    "- **finally:**\n",
    "\n",
    "Ad esempio, durante l'apertura di un file vorremmo includere:"
   ]
  },
  {
   "cell_type": "code",
   "execution_count": null,
   "metadata": {},
   "outputs": [],
   "source": [
    "f = open(path, 'w')\n",
    "\n",
    "#Prova ad eseguire l'operazione...\n",
    "try:\n",
    "    write_to_file(f)\n",
    "\n",
    "#Se l'operazione solleva qualche eccezione che possiamo indicare con la sintassi except(ecc_1, ecc_2, ..., ecc_n):\n",
    "except:\n",
    "    print('Operazione Fallita.')\n",
    "    \n",
    "#Se l'operazione va a buon fine...\n",
    "else:\n",
    "    print('Eseguito con Successo!')\n",
    "\n",
    "#Blocco di codice da eseguire comunque vada, e.g. la chiusura di un file aperto, se non gestita col il blocco **with**...\n",
    "finally:\n",
    "    f.close()"
   ]
  },
  {
   "cell_type": "markdown",
   "metadata": {},
   "source": [
    "## Gestione dei **File** nel Sistema Operativo.\n",
    "\n",
    "Uno dei modi più sicuri per gestire l'apertura e la chiusura di un semplice file in Python è mediante un blocco **with**: "
   ]
  },
  {
   "cell_type": "code",
   "execution_count": null,
   "metadata": {},
   "outputs": [],
   "source": [
    "with open('Inserisci percorso file locale o web', 'Inserisci modalità lettura/scrittura') as handle :\n",
    "    #Inserisci operazione da svolgere sul file"
   ]
  },
  {
   "cell_type": "markdown",
   "metadata": {},
   "source": [
    "L'uscita dal blocco **with** comporterà anche una chiusura pulita del file. Vi sono diverse modalità di lettura/scrittura di un file:\n",
    "\n",
    "- **t** — **DEFAULT**, modalità testuale impostata automaticamente per la decodifica a UNICODE. Aggiungere come 'rt' o 'xt' per combinarla con altre modalità\n",
    "- **r** — Sola lettura.\n",
    "- **w** — Sola scrittura, crea un nuovo file cancellando qualsiasi file con lo stesso nome nella directory.\n",
    "- **x** — Sola scrittura, a differenza di **w** fallisce se trova un file con lo stesso nome nella directory.\n",
    "- **a** — Aggancia in coda ad un file esistente, creandolo se non esiste.\n",
    "- **r+** — Lettura/Scrittura.\n",
    "- **b** — Aggiungere come 'rb', 'wb' per lettura/scrittura su file binari."
   ]
  },
  {
   "cell_type": "markdown",
   "metadata": {},
   "source": [
    "# Scientific Python: **NumPy**"
   ]
  },
  {
   "cell_type": "markdown",
   "metadata": {},
   "source": [
    "La caratteristica fondamentale di NumPy è costituita dagli **Array N-Dimensionali** o **ndarray**. Gli ndarray consentono l'esecuzione di operazioni matematiche su interi blocchi di dati, impiegando una sintassi simile ad operazioni simili su elementi *scalari*, cioè composti da *un solo elemento*:"
   ]
  },
  {
   "cell_type": "code",
   "execution_count": 1,
   "metadata": {
    "scrolled": true
   },
   "outputs": [
    {
     "data": {
      "text/plain": [
       "array([[-0.93668834, -0.42793882,  0.60538627],\n",
       "       [ 1.30071866,  1.59723658,  0.2342186 ],\n",
       "       [ 0.7120891 , -0.97464029, -0.66465276],\n",
       "       [ 0.61115969, -0.41003002, -0.2046902 ],\n",
       "       [ 1.38900377,  1.20305097, -0.17170191]])"
      ]
     },
     "execution_count": 1,
     "metadata": {},
     "output_type": "execute_result"
    }
   ],
   "source": [
    "import numpy as np\n",
    "\n",
    "#Genero un ndarray di numeri casuali con shape 10,5\n",
    "dati = np.random.randn(5, 3)\n",
    "dati"
   ]
  },
  {
   "cell_type": "code",
   "execution_count": 2,
   "metadata": {},
   "outputs": [
    {
     "data": {
      "text/plain": [
       "array([[-1.87337668, -0.85587765,  1.21077254],\n",
       "       [ 2.60143732,  3.19447316,  0.4684372 ],\n",
       "       [ 1.42417819, -1.94928058, -1.32930551],\n",
       "       [ 1.22231939, -0.82006003, -0.40938039],\n",
       "       [ 2.77800754,  2.40610194, -0.34340382]])"
      ]
     },
     "execution_count": 2,
     "metadata": {},
     "output_type": "execute_result"
    }
   ],
   "source": [
    "dati + dati"
   ]
  },
  {
   "cell_type": "code",
   "execution_count": 3,
   "metadata": {},
   "outputs": [
    {
     "data": {
      "text/plain": [
       "array([[-9.36688342, -4.27938824,  6.0538627 ],\n",
       "       [13.0071866 , 15.97236579,  2.34218598],\n",
       "       [ 7.12089096, -9.74640289, -6.64652755],\n",
       "       [ 6.11159695, -4.10030017, -2.04690195],\n",
       "       [13.89003769, 12.0305097 , -1.71701912]])"
      ]
     },
     "execution_count": 3,
     "metadata": {},
     "output_type": "execute_result"
    }
   ],
   "source": [
    "dati * 10"
   ]
  },
  {
   "cell_type": "code",
   "execution_count": 4,
   "metadata": {},
   "outputs": [
    {
     "data": {
      "text/plain": [
       "array([[-18.73376683,  -8.55877649,  12.1077254 ],\n",
       "       [ 26.01437319,  31.94473158,   4.68437196],\n",
       "       [ 14.24178192, -19.49280578, -13.2930551 ],\n",
       "       [ 12.2231939 ,  -8.20060035,  -4.0938039 ],\n",
       "       [ 27.78007538,  24.0610194 ,  -3.43403824]])"
      ]
     },
     "execution_count": 4,
     "metadata": {},
     "output_type": "execute_result"
    }
   ],
   "source": [
    "(dati + dati) * 10"
   ]
  },
  {
   "cell_type": "markdown",
   "metadata": {},
   "source": [
    "## Creazione di un **ndarray**\n",
    "\n",
    "Il metodo più immediato per la creazione di un ndarray è l'uso della funzione **np.array(*data*)**:"
   ]
  },
  {
   "cell_type": "code",
   "execution_count": 5,
   "metadata": {},
   "outputs": [
    {
     "data": {
      "text/plain": [
       "array([1., 2., 3., 4., 5., 6.])"
      ]
     },
     "execution_count": 5,
     "metadata": {},
     "output_type": "execute_result"
    }
   ],
   "source": [
    "dati = [1, 2.0, 3, 4, 5, 6]\n",
    "array_dati = np.array(dati)\n",
    "array_dati"
   ]
  },
  {
   "cell_type": "markdown",
   "metadata": {},
   "source": [
    "Sequenze annidate, come una lista di liste, saranno convertite in array multidimensionali:"
   ]
  },
  {
   "cell_type": "code",
   "execution_count": 6,
   "metadata": {},
   "outputs": [
    {
     "name": "stdout",
     "output_type": "stream",
     "text": [
      "[[1 2 3 4]\n",
      " [5 6 7 8]] \n",
      "\n",
      "Le dimensioni di questo array sono: (2, 4)\n"
     ]
    }
   ],
   "source": [
    "dati = [[1, 2, 3, 4], [5, 6, 7, 8]]\n",
    "array_dati = np.array(dati)\n",
    "print(array_dati, \"\\n\\n\"+\"Le dimensioni di questo array sono: \"+str(array_dati.shape))"
   ]
  },
  {
   "cell_type": "markdown",
   "metadata": {},
   "source": [
    "In aggiunta a **np.array** vi sono numerose altre funzioni per inizializzare nuovi ndarray. Ad esempio, **np.zeros((shape as tuple))**, **np.ones((shape as tuple))** e **np.empty((shape as tuple))** inizializzeranno rispettivamente: un array di 0, 1 o un array vuoto:"
   ]
  },
  {
   "cell_type": "code",
   "execution_count": 7,
   "metadata": {},
   "outputs": [
    {
     "data": {
      "text/plain": [
       "array([[0., 0., 0.],\n",
       "       [0., 0., 0.],\n",
       "       [0., 0., 0.],\n",
       "       [0., 0., 0.],\n",
       "       [0., 0., 0.]])"
      ]
     },
     "execution_count": 7,
     "metadata": {},
     "output_type": "execute_result"
    }
   ],
   "source": [
    "array_dati = np.zeros((5,3))\n",
    "array_dati"
   ]
  },
  {
   "cell_type": "code",
   "execution_count": 8,
   "metadata": {},
   "outputs": [
    {
     "data": {
      "text/plain": [
       "array([[1., 1., 1.],\n",
       "       [1., 1., 1.],\n",
       "       [1., 1., 1.],\n",
       "       [1., 1., 1.],\n",
       "       [1., 1., 1.]])"
      ]
     },
     "execution_count": 8,
     "metadata": {},
     "output_type": "execute_result"
    }
   ],
   "source": [
    "array_dati = np.ones((5,3))\n",
    "array_dati"
   ]
  },
  {
   "cell_type": "markdown",
   "metadata": {},
   "source": [
    "Una generalizzazione delle funzioni **np.zeros()** e **np.ones()** è **np.full(*shape, fill_value, dtype=None, order='C'*)**:"
   ]
  },
  {
   "cell_type": "code",
   "execution_count": 9,
   "metadata": {},
   "outputs": [
    {
     "data": {
      "text/plain": [
       "array([[2., 2., 2.],\n",
       "       [2., 2., 2.],\n",
       "       [2., 2., 2.],\n",
       "       [2., 2., 2.],\n",
       "       [2., 2., 2.]])"
      ]
     },
     "execution_count": 9,
     "metadata": {},
     "output_type": "execute_result"
    }
   ],
   "source": [
    "array_dati = np.full((5,3), 2.0)\n",
    "array_dati"
   ]
  },
  {
   "cell_type": "markdown",
   "metadata": {},
   "source": [
    "Similmente, la funzione **np.full_like(*array, fill_value, dtype=None, ...*)** produce un array simile per *shape* e *dtype* a quello fornito in argomento, e riempito con il valore indicato in *fill_value*:"
   ]
  },
  {
   "cell_type": "code",
   "execution_count": 10,
   "metadata": {},
   "outputs": [
    {
     "data": {
      "text/plain": [
       "array([[4., 4., 4.],\n",
       "       [4., 4., 4.],\n",
       "       [4., 4., 4.],\n",
       "       [4., 4., 4.],\n",
       "       [4., 4., 4.]])"
      ]
     },
     "execution_count": 10,
     "metadata": {},
     "output_type": "execute_result"
    }
   ],
   "source": [
    "array_dati_facsimile = np.full_like(array_dati, 4.0)\n",
    "array_dati_facsimile"
   ]
  },
  {
   "cell_type": "markdown",
   "metadata": {},
   "source": [
    "La specificazione del parametro *dtype* negli argomenti di np.full_like() **provocherà un override del tipo dei dati**:"
   ]
  },
  {
   "cell_type": "code",
   "execution_count": 11,
   "metadata": {},
   "outputs": [
    {
     "data": {
      "text/plain": [
       "array([[4, 4, 4],\n",
       "       [4, 4, 4],\n",
       "       [4, 4, 4],\n",
       "       [4, 4, 4],\n",
       "       [4, 4, 4]], dtype=int8)"
      ]
     },
     "execution_count": 11,
     "metadata": {},
     "output_type": "execute_result"
    }
   ],
   "source": [
    "array_dati_facsimile = np.full_like(array_dati, 4.0, dtype = np.int8)\n",
    "array_dati_facsimile"
   ]
  },
  {
   "cell_type": "markdown",
   "metadata": {},
   "source": [
    "## **Datatypes** o ***dtypes*** per gli ndarray\n",
    "\n",
    "*Quando non indicato esplicitamente*, NumPy proverà a inferire il miglior tipo di dati da assegnare all'ndarray, fra quelli disponibili:\n",
    "\n",
    "- **int/uint8, 16, 32, 64**\n",
    "- **float16, 32, 64, 128**\n",
    "- **complex64, 128, 256**\n",
    "- **bool**\n",
    "- **object**\n",
    "- **string_**, stringa di lunghezza fissa (similmente al tipo CHAR di SQL)\n",
    "- **unicode_**\n",
    "\n",
    "Il tipo di dati di un ndarray è conservato nell'attributo **dtype**. E' possibile indicare il dtype di un ndarray mediante la dichiarazione **dtype = np.*tipo***:"
   ]
  },
  {
   "cell_type": "code",
   "execution_count": 12,
   "metadata": {},
   "outputs": [
    {
     "data": {
      "text/plain": [
       "array([[1, 1, 1],\n",
       "       [1, 1, 1],\n",
       "       [1, 1, 1],\n",
       "       [1, 1, 1],\n",
       "       [1, 1, 1]], dtype=int8)"
      ]
     },
     "execution_count": 12,
     "metadata": {},
     "output_type": "execute_result"
    }
   ],
   "source": [
    "array_dati = np.ones((5,3), dtype = np.int8)\n",
    "array_dati"
   ]
  },
  {
   "cell_type": "code",
   "execution_count": 13,
   "metadata": {},
   "outputs": [
    {
     "data": {
      "text/plain": [
       "dtype('int8')"
      ]
     },
     "execution_count": 13,
     "metadata": {},
     "output_type": "execute_result"
    }
   ],
   "source": [
    "array_dati.dtype"
   ]
  },
  {
   "cell_type": "markdown",
   "metadata": {},
   "source": [
    "E' possibile convertire o *castare* un array da dtype ad un altro usando il metodo **astype(**dtype**)**:"
   ]
  },
  {
   "cell_type": "code",
   "execution_count": 14,
   "metadata": {},
   "outputs": [
    {
     "data": {
      "text/plain": [
       "array([[b'1', b'1', b'1'],\n",
       "       [b'1', b'1', b'1'],\n",
       "       [b'1', b'1', b'1'],\n",
       "       [b'1', b'1', b'1'],\n",
       "       [b'1', b'1', b'1']], dtype='|S4')"
      ]
     },
     "execution_count": 14,
     "metadata": {},
     "output_type": "execute_result"
    }
   ],
   "source": [
    "array_dati = array_dati.astype(np.string_)\n",
    "array_dati"
   ]
  },
  {
   "cell_type": "markdown",
   "metadata": {},
   "source": [
    "La conversione di un dtype *float* ad un *int* **provocherà la troncatura** *(non l'approssimazione!)* **della parte decimale**:"
   ]
  },
  {
   "cell_type": "code",
   "execution_count": 15,
   "metadata": {
    "scrolled": true
   },
   "outputs": [
    {
     "name": "stdout",
     "output_type": "stream",
     "text": [
      "\u001b[1mfloat64\u001b[0m :\n",
      "\n",
      " [[ 0.51036459 -0.94060651  0.52624408]\n",
      " [-1.18186993 -0.04447516 -0.01742975]\n",
      " [-0.38735063 -0.29274689  0.09398373]\n",
      " [-0.89372628 -2.12497009  0.47525423]\n",
      " [-0.24102476  0.42086684 -1.31204174]] \n",
      "\n",
      " \u001b[1mint8\u001b[0m :\n",
      "\n",
      " [[ 0  0  0]\n",
      " [-1  0  0]\n",
      " [ 0  0  0]\n",
      " [ 0 -2  0]\n",
      " [ 0  0 -1]]\n"
     ]
    }
   ],
   "source": [
    "array_dati = np.random.randn(5, 3)\n",
    "print('\\033[1m'+str(array_dati.dtype)+'\\033[0m', \\\n",
    "      \":\\n\\n\", \\\n",
    "      array_dati, \\\n",
    "      \"\\n\\n\", \\\n",
    "      '\\033[1m'+str(array_dati.astype(np.int8).dtype)+'\\033[0m', \\\n",
    "      \":\\n\\n\", \\\n",
    "      array_dati.astype(np.int8))\n",
    "\n",
    "#'\\033[1m' e '\\033[0m' rispettivamnte aprono e chiudono la formattazione in grassetto per una stringa."
   ]
  },
  {
   "cell_type": "markdown",
   "metadata": {},
   "source": [
    "## **Indicizzazione** e **Partizione** in NumPy\n",
    "\n",
    "L'indicizzazione di un array in NumPy opera superficialmente in modo analogo a quella vista per le liste, con la notazione **array[inizio : fine]**. "
   ]
  },
  {
   "cell_type": "code",
   "execution_count": 3,
   "metadata": {},
   "outputs": [
    {
     "data": {
      "text/plain": [
       "(array([1, 2, 3, 4, 5, 6, 7, 8, 9]), array([6, 7, 8]))"
      ]
     },
     "execution_count": 3,
     "metadata": {},
     "output_type": "execute_result"
    }
   ],
   "source": [
    "import numpy as np\n",
    "\n",
    "array = np.arange(1,10)\n",
    "array, array[5:8]"
   ]
  },
  {
   "cell_type": "markdown",
   "metadata": {},
   "source": [
    "Tuttavia occorre notare che, a differenza delle liste, **le partizioni in NumPy non sono copie dei dati, ma SOLO viste o *view* sui dati**. Sotto questa logica, **tutte le modifiche alla vista/partizione** verranno riflesse sulla fonte: **l'array di partenza**."
   ]
  },
  {
   "cell_type": "code",
   "execution_count": 11,
   "metadata": {},
   "outputs": [
    {
     "data": {
      "text/plain": [
       "array([1, 2, 3, 4, 5, 0, 0, 0, 9])"
      ]
     },
     "execution_count": 11,
     "metadata": {},
     "output_type": "execute_result"
    }
   ],
   "source": [
    "array[5:8] = 0\n",
    "array"
   ]
  },
  {
   "cell_type": "code",
   "execution_count": 12,
   "metadata": {},
   "outputs": [
    {
     "data": {
      "text/plain": [
       "array([0, 0, 0])"
      ]
     },
     "execution_count": 12,
     "metadata": {},
     "output_type": "execute_result"
    }
   ],
   "source": [
    "partizione = array[5:8]\n",
    "partizione"
   ]
  },
  {
   "cell_type": "code",
   "execution_count": 13,
   "metadata": {},
   "outputs": [
    {
     "data": {
      "text/plain": [
       "(array([    0, 12345,     0]),\n",
       " array([    1,     2,     3,     4,     5,     0, 12345,     0,     9]))"
      ]
     },
     "execution_count": 13,
     "metadata": {},
     "output_type": "execute_result"
    }
   ],
   "source": [
    "partizione[1] = 12345\n",
    "partizione, array"
   ]
  },
  {
   "cell_type": "markdown",
   "metadata": {},
   "source": [
    "Se si desiderasse effettuare una copia di un array anzichè una vista, occorrerà usare il metodo **.copy()**."
   ]
  },
  {
   "cell_type": "markdown",
   "metadata": {},
   "source": [
    "La notazione **[:]** invece comporta l'assegnazione di un valore a tutti gli elementi di un array:"
   ]
  },
  {
   "cell_type": "code",
   "execution_count": 15,
   "metadata": {},
   "outputs": [
    {
     "data": {
      "text/plain": [
       "(array([1, 2, 3, 4, 5, 1, 1, 1, 9]), array([1, 1, 1]), array([0, 0, 0]))"
      ]
     },
     "execution_count": 15,
     "metadata": {},
     "output_type": "execute_result"
    }
   ],
   "source": [
    "partizione_copia = array[5:8].copy()\n",
    "partizione[:] = 1\n",
    "partizione_copia[:] = 0\n",
    "array, partizione, partizione_copia"
   ]
  },
  {
   "cell_type": "markdown",
   "metadata": {},
   "source": [
    "Indicizzazione e la partizione con le matrici si ottengono mediante la notazione **[riga, colonna]**. Per le righe, la notazione **[riga]** e **[riga, :]** coincidono, mentre per le colonne vi è un'unica notazione **[:, colonna]**."
   ]
  },
  {
   "cell_type": "code",
   "execution_count": 50,
   "metadata": {},
   "outputs": [
    {
     "name": "stdout",
     "output_type": "stream",
     "text": [
      "[[1 2 3]\n",
      " [4 5 6]\n",
      " [7 8 9]] \n",
      "\n",
      "prima riga: [1 2 3] \n",
      "seconda riga: [4 5 6] \n",
      "terza riga: [7 8 9] \n",
      "\n",
      "prima colonna: [1 4 7] \n",
      "seconda colonna: [2 5 8] \n",
      "terza colonna: [3 6 9] \n",
      "\n",
      "diagonale: 1 5 9\n"
     ]
    }
   ],
   "source": [
    "matrice = np.array([[1,2,3], \n",
    "                    [4,5,6], \n",
    "                    [7,8,9]])\n",
    "\n",
    "print(matrice, \\\n",
    "      \"\\n\\nprima riga:\", matrice[0,:], \\\n",
    "      \"\\nseconda riga:\", matrice[1,:], \\\n",
    "      \"\\nterza riga:\", matrice[2,:], \\\n",
    "      \n",
    "      \"\\n\\nprima colonna:\", matrice[:,0], \\\n",
    "      \"\\nseconda colonna:\", matrice[:,1], \\\n",
    "      \"\\nterza colonna:\", matrice[:,2], \\\n",
    "      \n",
    "      \"\\n\\ndiagonale:\", matrice[0,0], matrice[1,1], matrice[2,2]\n",
    "      \n",
    "     )"
   ]
  },
  {
   "cell_type": "markdown",
   "metadata": {},
   "source": [
    "La notazione **:** può essere usata per estendere ulteriormente le possibilità di partizione di una matrice. Se **:** è indicato prima dell'indice starà a significare **\"tutte le righe/colonne entro questo valore\"**, mentre un **:** posizionato successivamente all'indice indicherà **\"tutte le righe/colonne successive a questo valore\"**."
   ]
  },
  {
   "cell_type": "code",
   "execution_count": 52,
   "metadata": {},
   "outputs": [
    {
     "data": {
      "text/plain": [
       "array([[5, 6],\n",
       "       [8, 9]])"
      ]
     },
     "execution_count": 52,
     "metadata": {},
     "output_type": "execute_result"
    }
   ],
   "source": [
    "#Seleziona solo le righe e le colonne dalla seconda in poi.\n",
    "matrice[1:,1:]"
   ]
  },
  {
   "cell_type": "code",
   "execution_count": 55,
   "metadata": {},
   "outputs": [
    {
     "data": {
      "text/plain": [
       "array([[1, 2],\n",
       "       [4, 5]])"
      ]
     },
     "execution_count": 55,
     "metadata": {},
     "output_type": "execute_result"
    }
   ],
   "source": [
    "#Selezione solo le righe e le colonne fino alla seconda.\n",
    "matrice[:2,:2]"
   ]
  },
  {
   "cell_type": "code",
   "execution_count": 56,
   "metadata": {},
   "outputs": [
    {
     "data": {
      "text/plain": [
       "array([[2, 3],\n",
       "       [5, 6]])"
      ]
     },
     "execution_count": 56,
     "metadata": {},
     "output_type": "execute_result"
    }
   ],
   "source": [
    "#Selezione le righe fino alla seconda e le colonne dalla seconda in poi.\n",
    "matrice[:2,1:]"
   ]
  },
  {
   "cell_type": "code",
   "execution_count": 58,
   "metadata": {},
   "outputs": [
    {
     "data": {
      "text/plain": [
       "array([[4, 5],\n",
       "       [7, 8]])"
      ]
     },
     "execution_count": 58,
     "metadata": {},
     "output_type": "execute_result"
    }
   ],
   "source": [
    "#Selezione le righe dalla seconda in poi e le colonne fino alla seconda. \n",
    "matrice[1:,:2]"
   ]
  },
  {
   "cell_type": "markdown",
   "metadata": {},
   "source": [
    "## **Partizionare/Selezionare elementi** in base a condizioni con **numpy.where(*cond, expr. if true, expr. if false*)**\n",
    "\n",
    "Un metodo molto efficiente per replicare in NumPy la logica di una **Ternary Expression** del tipo ***a = if condition then x else y*** è quello di utilizzare **numpy.where**. Un tipico uso di questa funzione si ha quando si vuole produrre un nuovo array/matrice di valori in base a delle valutazioni su valori presenti in altri array. Ad esempio: "
   ]
  },
  {
   "cell_type": "code",
   "execution_count": 21,
   "metadata": {},
   "outputs": [
    {
     "data": {
      "text/plain": [
       "(array([[-10,  -9,  -8,  -7],\n",
       "        [ -6,  -5,  -4,  -3],\n",
       "        [ -2,  -1,   0,   1],\n",
       "        [  2,   3,   4,   5],\n",
       "        [  6,   7,   8,   9]]),\n",
       " array([[0, 0, 0, 0],\n",
       "        [0, 0, 0, 0],\n",
       "        [0, 0, 0, 1],\n",
       "        [1, 1, 1, 1],\n",
       "        [1, 1, 1, 1]]),\n",
       " array([[0, 0, 0, 0],\n",
       "        [0, 0, 0, 0],\n",
       "        [0, 0, 0, 1],\n",
       "        [2, 3, 4, 5],\n",
       "        [6, 7, 8, 9]]),\n",
       " array([100,  81,  64,  49,  36,  25,  16,   9,   4,   1,   0,   0,   0,\n",
       "          0,   0,   0,   0,   0,   0,   0], dtype=int32))"
      ]
     },
     "execution_count": 21,
     "metadata": {},
     "output_type": "execute_result"
    }
   ],
   "source": [
    "import numpy as np\n",
    "\n",
    "#inizializzo un array di numeri da -10 a 10.\n",
    "array = np.arange(-10,10).reshape(5,-1)\n",
    "\n",
    "#Produco un array di booleani per indicare i valori positivi, \n",
    "#Pppure produco i soli valori positivi dell'array di partenza, riducendo gli altri a zero,\n",
    "#O ancora, effettuo un'operazione solo su i valori negativi, mettendo i positivi a zero. Appiattisco il risultato con flatten().\n",
    "array, np.where(array > 0, 1, 0), np.where(array > 0, array, 0), np.where(array < 0, np.power(array, 2), 0).flatten()"
   ]
  },
  {
   "cell_type": "markdown",
   "metadata": {},
   "source": [
    "## Cambiare dimensioni ed assi con **Reshape()**, **Transpose()**, **Flatten()** & **Ravel()**\n",
    "\n",
    "### **Reshape()**\n",
    "\n",
    "La conversione di un array da una *shape* ad un altra è definita dal metodo **reshape(*shape*)**. In reshape possiamo indicare nella tupla **(righe, colonne)** con le dimensioni desiderate. Un particolare caso di reshape è la conversone di una array unidimensionale ad una matrice:"
   ]
  },
  {
   "cell_type": "code",
   "execution_count": 2,
   "metadata": {},
   "outputs": [
    {
     "data": {
      "text/plain": [
       "(array([ 0,  1,  2,  3,  4,  5,  6,  7,  8,  9, 10, 11, 12, 13, 14, 15, 16,\n",
       "        17, 18, 19, 20, 21, 22, 23, 24, 25, 26, 27, 28, 29, 30, 31, 32, 33,\n",
       "        34, 35, 36, 37, 38, 39, 40, 41, 42, 43, 44]),\n",
       " array([[ 0,  1,  2],\n",
       "        [ 3,  4,  5],\n",
       "        [ 6,  7,  8],\n",
       "        [ 9, 10, 11],\n",
       "        [12, 13, 14],\n",
       "        [15, 16, 17],\n",
       "        [18, 19, 20],\n",
       "        [21, 22, 23],\n",
       "        [24, 25, 26],\n",
       "        [27, 28, 29],\n",
       "        [30, 31, 32],\n",
       "        [33, 34, 35],\n",
       "        [36, 37, 38],\n",
       "        [39, 40, 41],\n",
       "        [42, 43, 44]]))"
      ]
     },
     "execution_count": 2,
     "metadata": {},
     "output_type": "execute_result"
    }
   ],
   "source": [
    "import numpy as np\n",
    "\n",
    "array = np.arange(45)\n",
    "matrice = array.reshape((15,3))\n",
    "array, matrice"
   ]
  },
  {
   "cell_type": "markdown",
   "metadata": {},
   "source": [
    "#### **Reshape ad una dimensione sconosciuta con -1**"
   ]
  },
  {
   "cell_type": "markdown",
   "metadata": {},
   "source": [
    "Nel caso dimostrato qui sopra l'array è stato convertito nella matrice di forma 15x3 (infatti 15x3 = 45). Ma se una delle due dimensioni non fosse di immediata comprensione o volessimo dare al sistema la possibilità di trovare la forma più adatta? Ciò è possibile in NumPy impostando una delle due dimensioni **(righe, colonne)** come **-1**. A questo punto, Numpy inferirà la dimensione mancante più adatta per il reshape dell'array."
   ]
  },
  {
   "cell_type": "code",
   "execution_count": 10,
   "metadata": {},
   "outputs": [
    {
     "data": {
      "text/plain": [
       "(array([ 0,  1,  2,  3,  4,  5,  6,  7,  8,  9, 10, 11, 12, 13, 14, 15, 16,\n",
       "        17, 18, 19, 20, 21, 22, 23, 24, 25, 26, 27, 28, 29, 30, 31, 32, 33,\n",
       "        34, 35, 36, 37, 38, 39, 40, 41, 42, 43, 44]),\n",
       " array([[ 0,  1,  2],\n",
       "        [ 3,  4,  5],\n",
       "        [ 6,  7,  8],\n",
       "        [ 9, 10, 11],\n",
       "        [12, 13, 14],\n",
       "        [15, 16, 17],\n",
       "        [18, 19, 20],\n",
       "        [21, 22, 23],\n",
       "        [24, 25, 26],\n",
       "        [27, 28, 29],\n",
       "        [30, 31, 32],\n",
       "        [33, 34, 35],\n",
       "        [36, 37, 38],\n",
       "        [39, 40, 41],\n",
       "        [42, 43, 44]]))"
      ]
     },
     "execution_count": 10,
     "metadata": {},
     "output_type": "execute_result"
    }
   ],
   "source": [
    "array = np.arange(45)\n",
    "matrice = array.reshape((15,-1))\n",
    "array, matrice"
   ]
  },
  {
   "cell_type": "markdown",
   "metadata": {},
   "source": [
    "### Le operazioni inverse di Reshape: **Flatten()** e **Ravel()**\n",
    "\n",
    "Le operazioni opposte a **Reshape()** sono **Ravel()** e **Flatten()**. La sola differenza fra le due consiste nel fatto che **Flatten() consegna sempre una copia dell'array di partenza**. "
   ]
  },
  {
   "cell_type": "code",
   "execution_count": 14,
   "metadata": {},
   "outputs": [
    {
     "data": {
      "text/plain": [
       "(array([ 0,  1,  2,  3,  4,  5,  6,  7,  8,  9, 10, 11, 12, 13, 14, 15, 16,\n",
       "        17, 18, 19, 20, 21, 22, 23, 24, 25, 26, 27, 28, 29, 30, 31, 32, 33,\n",
       "        34, 35, 36, 37, 38, 39, 40, 41, 42, 43, 44]),\n",
       " array([[ 0,  1,  2],\n",
       "        [ 3,  4,  5],\n",
       "        [ 6,  7,  8],\n",
       "        [ 9, 10, 11],\n",
       "        [12, 13, 14],\n",
       "        [15, 16, 17],\n",
       "        [18, 19, 20],\n",
       "        [21, 22, 23],\n",
       "        [24, 25, 26],\n",
       "        [27, 28, 29],\n",
       "        [30, 31, 32],\n",
       "        [33, 34, 35],\n",
       "        [36, 37, 38],\n",
       "        [39, 40, 41],\n",
       "        [42, 43, 44]]),\n",
       " array([ 0,  1,  2,  3,  4,  5,  6,  7,  8,  9, 10, 11, 12, 13, 14, 15, 16,\n",
       "        17, 18, 19, 20, 21, 22, 23, 24, 25, 26, 27, 28, 29, 30, 31, 32, 33,\n",
       "        34, 35, 36, 37, 38, 39, 40, 41, 42, 43, 44]),\n",
       " array([ 0,  1,  2,  3,  4,  5,  6,  7,  8,  9, 10, 11, 12, 13, 14, 15, 16,\n",
       "        17, 18, 19, 20, 21, 22, 23, 24, 25, 26, 27, 28, 29, 30, 31, 32, 33,\n",
       "        34, 35, 36, 37, 38, 39, 40, 41, 42, 43, 44]))"
      ]
     },
     "execution_count": 14,
     "metadata": {},
     "output_type": "execute_result"
    }
   ],
   "source": [
    "array = np.arange(45)\n",
    "reshaped = array.reshape((15,3))\n",
    "raveled = reshaped.ravel()\n",
    "flattened = reshaped.flatten()\n",
    "array, reshaped, raveled, flattened"
   ]
  },
  {
   "cell_type": "markdown",
   "metadata": {},
   "source": [
    "### Scambiare gli assi con **Transpose()**\n",
    "\n",
    "La trasposizione di un ndarray/matrice è una speciale forma di reshape mediante la quale possiamo **scambiare le righe in colonne e le colonne in righe**. Ciò può esser fatto in due modi:\n",
    "\n",
    "- Il metodo **Transpose()**\n",
    "\n",
    "- **L'attributo T** dell'ndarray\n",
    "\n",
    "Similmente a Reshape(), **Transpose() corrisponde solamente ad una view sui dati sottostanti e non ad una copia**. Come sempre, però, per effettuare una copia sarà sufficente concatenare a Reshape() o Transpose() il metodo **.copy()**."
   ]
  },
  {
   "cell_type": "code",
   "execution_count": 20,
   "metadata": {},
   "outputs": [
    {
     "data": {
      "text/plain": [
       "(array([[ 0,  1,  2,  3,  4],\n",
       "        [ 5,  6,  7,  8,  9],\n",
       "        [10, 11, 12, 13, 14]]),\n",
       " array([[ 0,  5, 10],\n",
       "        [ 1,  6, 11],\n",
       "        [ 2,  7, 12],\n",
       "        [ 3,  8, 13],\n",
       "        [ 4,  9, 14]]),\n",
       " array([[ 0,  5, 10],\n",
       "        [ 1,  6, 11],\n",
       "        [ 2,  7, 12],\n",
       "        [ 3,  8, 13],\n",
       "        [ 4,  9, 14]]))"
      ]
     },
     "execution_count": 20,
     "metadata": {},
     "output_type": "execute_result"
    }
   ],
   "source": [
    "array = np.arange(15).reshape((3,5))\n",
    "transposed = array.transpose().copy()\n",
    "T_attribute = array.T.copy()\n",
    "array, transposed, T_attribute"
   ]
  },
  {
   "cell_type": "markdown",
   "metadata": {},
   "source": [
    "## Operazioni Matematiche e Statistica Descrittiva in NumPy con le **Universal Functions** e la **Vettorizzazione**\n",
    "\n",
    "Un aspetto fondamentale di NumPy è la capacità di estendere un'operazione a tutto l'ndarray senza ricorrere ad alcun ciclo for. Tale funzionalità è chiamata **vettorizzazione**. La vettorizzazione può essere sfuttata per velocizzare di diversi ordini di grandezza numerosi calcoli matematici o statistici da applicare sugli assi o sull'intero array. Le funzioni che sfruttano la vettorizzazione sono definite **universal functions** o **ufunc**.\n",
    "\n",
    "### L'argomento ***out***\n",
    "\n",
    "Tutte le unfuncs accettano di utilizzare come output un array/matrice specificata nell'argomento opzionale ***out***. Out può essere sia un argomento posizionale — ovvero deve rispettare una posizione predeterminata all'interno della lista degli argomenti della funzione — oppure come una parola chiave *out = array / out = (array1, array2, ...)*, **singolarmente o come tupla di array output** a seconda che la funzioni risulti in uno o più outuput.\n",
    "\n",
    "### L'argomento opzionale ***where***\n",
    "\n",
    "Accetta una matrice booleana che viene trasmessa insieme agli operandi. I valori di **True** indicano di calcolare la funzione in quella posizione, i valori di **False** indicano di lasciare il valore di output inalterato. Questo argomento non può essere utilizzato per le universal functions generiche poiché queste accettano input non scalari — cioè non accettano numeri, in sostanza. Si noti che se viene creato un array di ritorno non inizializzato, all'indice la cui condizione risulta in **False**, i valori presenti rimarranno non inizializzati, con il conseguente rischio di produrre un risultato errato e dall'esito casuale in tali posizioni.\n",
    "\n",
    "### **Documentazione**\n",
    "\n",
    "Tutte le ufuncs possono essere trovate qui: https://numpy.org/doc/stable/reference/ufuncs.html#available-ufuncs"
   ]
  },
  {
   "cell_type": "markdown",
   "metadata": {},
   "source": [
    "### **Radice Quadrata** con **np.sqrt()**"
   ]
  },
  {
   "cell_type": "code",
   "execution_count": 16,
   "metadata": {
    "scrolled": true
   },
   "outputs": [
    {
     "data": {
      "text/plain": [
       "array([[1.41421356, 1.41421356, 1.41421356],\n",
       "       [1.41421356, 1.41421356, 1.41421356],\n",
       "       [1.41421356, 1.41421356, 1.41421356],\n",
       "       [1.41421356, 1.41421356, 1.41421356],\n",
       "       [1.41421356, 1.41421356, 1.41421356]])"
      ]
     },
     "execution_count": 16,
     "metadata": {},
     "output_type": "execute_result"
    }
   ],
   "source": [
    "array_dati = np.full((5,3), 2.0)\n",
    "np.sqrt(array_dati)"
   ]
  },
  {
   "cell_type": "code",
   "execution_count": 17,
   "metadata": {},
   "outputs": [],
   "source": [
    "array_dati = np.random.randint(0, 100, size = (5,3))"
   ]
  },
  {
   "cell_type": "markdown",
   "metadata": {},
   "source": [
    "### **Esponenziale** con **np.exp()**"
   ]
  },
  {
   "cell_type": "code",
   "execution_count": 18,
   "metadata": {},
   "outputs": [
    {
     "data": {
      "text/plain": [
       "array([[1.20260428e+06, 1.95729609e+11, 2.83075330e+23],\n",
       "       [4.48961282e+38, 8.88611052e+06, 8.88611052e+06],\n",
       "       [1.20260428e+06, 1.73927494e+18, 5.05239363e+31],\n",
       "       [2.58131289e+20, 1.31881573e+09, 1.48413159e+02],\n",
       "       [5.68572000e+24, 6.66317622e+40, 2.09165950e+24]])"
      ]
     },
     "execution_count": 18,
     "metadata": {},
     "output_type": "execute_result"
    }
   ],
   "source": [
    "#calcola e^x per ogni elemento x.\n",
    "np.exp(array_dati)"
   ]
  },
  {
   "cell_type": "markdown",
   "metadata": {},
   "source": [
    "### **Logaritmo Naturale** con **np.log()**"
   ]
  },
  {
   "cell_type": "code",
   "execution_count": 19,
   "metadata": {},
   "outputs": [
    {
     "data": {
      "text/plain": [
       "array([[2.63905733, 3.25809654, 3.98898405],\n",
       "       [4.48863637, 2.77258872, 2.77258872],\n",
       "       [2.63905733, 3.73766962, 4.29045944],\n",
       "       [3.8501476 , 3.04452244, 1.60943791],\n",
       "       [4.04305127, 4.54329478, 4.02535169]])"
      ]
     },
     "execution_count": 19,
     "metadata": {},
     "output_type": "execute_result"
    }
   ],
   "source": [
    "#logaritmo naturale. Altre funzioni simili sono: log10, log2, log1p.\n",
    "np.log(array_dati) "
   ]
  },
  {
   "cell_type": "markdown",
   "metadata": {},
   "source": [
    "### **Funzioni Trigonometriche** con **np.sqrt()**"
   ]
  },
  {
   "cell_type": "code",
   "execution_count": 20,
   "metadata": {},
   "outputs": [
    {
     "data": {
      "text/plain": [
       "array([[ 0.99060736,  0.76255845, -0.55878905],\n",
       "       [ 0.86006941, -0.28790332, -0.28790332],\n",
       "       [ 0.99060736, -0.91652155, -0.67677196],\n",
       "       [ 0.12357312,  0.83665564, -0.95892427],\n",
       "       [ 0.43616476, -0.24525199, -0.521551  ]])"
      ]
     },
     "execution_count": 20,
     "metadata": {},
     "output_type": "execute_result"
    }
   ],
   "source": [
    "#funzione trigonometrica seno. Altre funzioni simili sono: cos, cosh, tan, tanh, arccos, arccosh, etc...\n",
    "np.sin(array_dati)"
   ]
  },
  {
   "cell_type": "markdown",
   "metadata": {},
   "source": [
    "### **Arrotondamento, Valore Assoluto e Modulo** con **np.rint(), np.abs(), np.modf()**"
   ]
  },
  {
   "cell_type": "code",
   "execution_count": 21,
   "metadata": {},
   "outputs": [
    {
     "data": {
      "text/plain": [
       "array([[ 1.,  1., -1.],\n",
       "       [ 1., -0., -0.],\n",
       "       [ 1., -1., -1.],\n",
       "       [ 0.,  1., -1.],\n",
       "       [ 0., -0., -1.]])"
      ]
     },
     "execution_count": 21,
     "metadata": {},
     "output_type": "execute_result"
    }
   ],
   "source": [
    "#arrotonda i singoli valori all'intero più vicino preservando il dtype originale.\n",
    "np.rint(np.sin(array_dati))"
   ]
  },
  {
   "cell_type": "code",
   "execution_count": 22,
   "metadata": {},
   "outputs": [
    {
     "data": {
      "text/plain": [
       "array([[0.99060736, 0.76255845, 0.55878905],\n",
       "       [0.86006941, 0.28790332, 0.28790332],\n",
       "       [0.99060736, 0.91652155, 0.67677196],\n",
       "       [0.12357312, 0.83665564, 0.95892427],\n",
       "       [0.43616476, 0.24525199, 0.521551  ]])"
      ]
     },
     "execution_count": 22,
     "metadata": {},
     "output_type": "execute_result"
    }
   ],
   "source": [
    "#valore assoluto dei singoli valori.\n",
    "np.abs(np.sin(array_dati))"
   ]
  },
  {
   "cell_type": "code",
   "execution_count": 23,
   "metadata": {},
   "outputs": [
    {
     "data": {
      "text/plain": [
       "(array([[0.63905733, 0.25809654, 0.98898405],\n",
       "        [0.48863637, 0.77258872, 0.77258872],\n",
       "        [0.63905733, 0.73766962, 0.29045944],\n",
       "        [0.8501476 , 0.04452244, 0.60943791],\n",
       "        [0.04305127, 0.54329478, 0.02535169]]),\n",
       " array([[2., 3., 3.],\n",
       "        [4., 2., 2.],\n",
       "        [2., 3., 4.],\n",
       "        [3., 3., 1.],\n",
       "        [4., 4., 4.]]))"
      ]
     },
     "execution_count": 23,
     "metadata": {},
     "output_type": "execute_result"
    }
   ],
   "source": [
    "#restituisce due array: parte decimale e parte intera dei singoli valori dell'array di partenza.\n",
    "np.modf(np.log(array_dati))"
   ]
  },
  {
   "cell_type": "markdown",
   "metadata": {},
   "source": [
    "### **Media, Deviazione Standard e Varianza** con **np.mean(), np.std(), np.var()**\n",
    "\n",
    "Funzionano come le omonime statistiche descrittive. Esistono come funzioni top-level *e.g.* **np.mean(array)** oppure come metodi **array.mean()**. Posseggono un **argomento opzionale *axis=1/0*** il quale permette di specificare il calcolo della funzione su colonne (axis = 1) o righe (axis = 0).  "
   ]
  },
  {
   "cell_type": "code",
   "execution_count": 30,
   "metadata": {},
   "outputs": [
    {
     "data": {
      "text/plain": [
       "array([[-0.68546521,  0.83280082, -1.70630025, -1.29742529],\n",
       "       [-1.4169098 , -1.28142224, -0.66153357,  1.43866936],\n",
       "       [ 0.78976023, -0.43453253,  0.20320139,  0.42048234],\n",
       "       [-0.37887316,  0.64135089, -0.55859258,  0.59763705],\n",
       "       [-0.12503985,  0.00284165, -0.84324767,  0.16227236]])"
      ]
     },
     "execution_count": 30,
     "metadata": {},
     "output_type": "execute_result"
    }
   ],
   "source": [
    "array = np.random.randn(5,4)\n",
    "array"
   ]
  },
  {
   "cell_type": "code",
   "execution_count": 31,
   "metadata": {},
   "outputs": [
    {
     "data": {
      "text/plain": [
       "(-0.21501630407224384, -0.21501630407224384)"
      ]
     },
     "execution_count": 31,
     "metadata": {},
     "output_type": "execute_result"
    }
   ],
   "source": [
    "array.mean(), np.mean(array)"
   ]
  },
  {
   "cell_type": "code",
   "execution_count": 32,
   "metadata": {},
   "outputs": [
    {
     "data": {
      "text/plain": [
       "(array([-0.71409748, -0.48029906,  0.24472786,  0.07538055, -0.20079338]),\n",
       " -0.714097482388703,\n",
       " -0.714097482388703)"
      ]
     },
     "execution_count": 32,
     "metadata": {},
     "output_type": "execute_result"
    }
   ],
   "source": [
    "#media di tutte le righe e della riga zero, codificato in vari modi.\n",
    "array.mean(axis = 1), array[0,:].mean(), array.mean(axis = 1)[0]"
   ]
  },
  {
   "cell_type": "code",
   "execution_count": 33,
   "metadata": {},
   "outputs": [
    {
     "data": {
      "text/plain": [
       "(array([-0.36330556, -0.04779228, -0.71329454,  0.26432716]),\n",
       " -0.3633055595031909,\n",
       " -0.3633055595031909)"
      ]
     },
     "execution_count": 33,
     "metadata": {},
     "output_type": "execute_result"
    }
   ],
   "source": [
    "#media di tutte le colonne e della colonna zero, codificato in vari modi.\n",
    "array.mean(axis = 0), array[:,0].mean(), array.mean(axis = 0)[0]"
   ]
  },
  {
   "cell_type": "code",
   "execution_count": 34,
   "metadata": {},
   "outputs": [
    {
     "data": {
      "text/plain": [
       "(array([0.72117159, 0.76476627, 0.61147769, 0.89039827]),\n",
       " array([0.52008847, 0.58486744, 0.37390497, 0.79280908]))"
      ]
     },
     "execution_count": 34,
     "metadata": {},
     "output_type": "execute_result"
    }
   ],
   "source": [
    "array.std(axis = 0), array.var(axis = 0)"
   ]
  },
  {
   "cell_type": "markdown",
   "metadata": {},
   "source": [
    "### **Somme e Prodotti Cumulativi** con **np.cumsum()** e **np.cumprod()** "
   ]
  },
  {
   "cell_type": "code",
   "execution_count": 38,
   "metadata": {},
   "outputs": [
    {
     "data": {
      "text/plain": [
       "array([[1., 1., 1., 1.],\n",
       "       [1., 1., 1., 1.],\n",
       "       [1., 1., 1., 1.],\n",
       "       [1., 1., 1., 1.],\n",
       "       [1., 1., 1., 1.]])"
      ]
     },
     "execution_count": 38,
     "metadata": {},
     "output_type": "execute_result"
    }
   ],
   "source": [
    "array[:] = 1"
   ]
  },
  {
   "cell_type": "code",
   "execution_count": 39,
   "metadata": {},
   "outputs": [
    {
     "data": {
      "text/plain": [
       "(array([[1., 1., 1., 1.],\n",
       "        [2., 2., 2., 2.],\n",
       "        [3., 3., 3., 3.],\n",
       "        [4., 4., 4., 4.],\n",
       "        [5., 5., 5., 5.]]),\n",
       " array([[1., 2., 3., 4.],\n",
       "        [1., 2., 3., 4.],\n",
       "        [1., 2., 3., 4.],\n",
       "        [1., 2., 3., 4.],\n",
       "        [1., 2., 3., 4.]]))"
      ]
     },
     "execution_count": 39,
     "metadata": {},
     "output_type": "execute_result"
    }
   ],
   "source": [
    "array.cumsum(axis = 0), array.cumsum(axis = 1)"
   ]
  },
  {
   "cell_type": "code",
   "execution_count": 41,
   "metadata": {},
   "outputs": [
    {
     "data": {
      "text/plain": [
       "(array([[ 2.,  2.,  2.,  2.],\n",
       "        [ 4.,  4.,  4.,  4.],\n",
       "        [ 8.,  8.,  8.,  8.],\n",
       "        [16., 16., 16., 16.],\n",
       "        [32., 32., 32., 32.]]),\n",
       " array([[ 2.,  4.,  8., 16.],\n",
       "        [ 2.,  4.,  8., 16.],\n",
       "        [ 2.,  4.,  8., 16.],\n",
       "        [ 2.,  4.,  8., 16.],\n",
       "        [ 2.,  4.,  8., 16.]]))"
      ]
     },
     "execution_count": 41,
     "metadata": {},
     "output_type": "execute_result"
    }
   ],
   "source": [
    "array[:] = 2\n",
    "array.cumprod(axis = 0), array.cumprod(axis = 1)"
   ]
  },
  {
   "cell_type": "markdown",
   "metadata": {},
   "source": [
    "### **Universal Functions a più argomenti**"
   ]
  },
  {
   "cell_type": "code",
   "execution_count": 24,
   "metadata": {
    "scrolled": true
   },
   "outputs": [
    {
     "data": {
      "text/plain": [
       "(array([[51, 72, 65],\n",
       "        [11, 75, 86],\n",
       "        [93, 16, 99],\n",
       "        [89, 25, 91],\n",
       "        [57, 16, 64]]),\n",
       " array([[98,  6, 91],\n",
       "        [46, 15, 45],\n",
       "        [57, 33, 49],\n",
       "        [94,  1, 71],\n",
       "        [84, 28, 78]]))"
      ]
     },
     "execution_count": 24,
     "metadata": {},
     "output_type": "execute_result"
    }
   ],
   "source": [
    "dati1 = np.random.randint(0, 100, size = (5,3))\n",
    "dati2 = np.random.randint(0, 100, size = (5,3))\n",
    "\n",
    "dati1, dati2"
   ]
  },
  {
   "cell_type": "code",
   "execution_count": 25,
   "metadata": {},
   "outputs": [
    {
     "data": {
      "text/plain": [
       "array([[98, 72, 91],\n",
       "       [46, 75, 86],\n",
       "       [93, 33, 99],\n",
       "       [94, 25, 91],\n",
       "       [84, 28, 78]])"
      ]
     },
     "execution_count": 25,
     "metadata": {},
     "output_type": "execute_result"
    }
   ],
   "source": [
    "#Restituisce l'array con l'elemento più grande in ogni posizione. Funzione opposta è: np.minimum()\n",
    "np.maximum(dati1, dati2) "
   ]
  },
  {
   "cell_type": "code",
   "execution_count": 26,
   "metadata": {},
   "outputs": [
    {
     "data": {
      "text/plain": [
       "array([[ 0, 66,  0],\n",
       "       [ 0, 60, 41],\n",
       "       [36,  0, 50],\n",
       "       [ 0, 24, 20],\n",
       "       [ 0,  0,  0]])"
      ]
     },
     "execution_count": 26,
     "metadata": {},
     "output_type": "execute_result"
    }
   ],
   "source": [
    "#Sottrae gli elementi del secondo array al primo. (LENTO, SICURO)\n",
    "np.subtract(dati1, dati2, where = np.where(dati1 > dati2, 1, 0).astype(bool))"
   ]
  },
  {
   "cell_type": "code",
   "execution_count": 29,
   "metadata": {},
   "outputs": [
    {
     "data": {
      "text/plain": [
       "array([[ 0, 66,  0],\n",
       "       [ 0, 60, 41],\n",
       "       [36,  0, 50],\n",
       "       [ 0, 24, 20],\n",
       "       [ 0,  0,  0]])"
      ]
     },
     "execution_count": 29,
     "metadata": {},
     "output_type": "execute_result"
    }
   ],
   "source": [
    "#Funzione equivalente alla precedente solo che np.greater(...) fornisce il risultato corretto solo alla prima iterazione...\n",
    "#VELOCE x10, ESITO INSICURO PERCHE'?\n",
    "np.subtract(dati1, dati2, where = np.greater(dati1, dati2))"
   ]
  },
  {
   "cell_type": "code",
   "execution_count": 46,
   "metadata": {},
   "outputs": [
    {
     "data": {
      "text/plain": [
       "(array([ 2,  4,  6,  8, 10, 12, 14, 16]),\n",
       " array([3, 3, 3, 3, 3, 3, 3, 3]),\n",
       " array([   8,   64,  216,  512, 1000, 1728, 2744, 4096]))"
      ]
     },
     "execution_count": 46,
     "metadata": {},
     "output_type": "execute_result"
    }
   ],
   "source": [
    "#Creo un array di interi casuali da 1 a 16, poi creo un array di esponenti. Elevo il primo al secondo, riportando il risultato\n",
    "#in un altro array.\n",
    "\n",
    "numeri = np.arange(2, 17, 2)\n",
    "esponenti = np.full_like(numeri, 3)\n",
    "\n",
    "#Si ottiene lo stesso risultato, ma più concisamente, inizializzando potenze = np.empty_like(numeri)\n",
    "#np.power(numeri, esponenti, potenze) o np.power(numeri, esponenti, out = potenze)\n",
    "potenze = np.power(numeri, esponenti)\n",
    "\n",
    "numeri, esponenti, potenze"
   ]
  },
  {
   "cell_type": "markdown",
   "metadata": {},
   "source": [
    "# Operazioni con **Set in NumPy**\n",
    "\n",
    "NumPy dispone di alcune semplici operazioni in logica set per array unidimensionali. Queste sono:\n",
    "\n",
    "- **unique(x)** — Produce l'array ordinato degli elementi unici di x;\n",
    "- **intersect1d(x, y)** — Produce l'array ordinato degli elementi comuni fra x e y;\n",
    "- **union1d(x, y)** — Produce l'array ordinato dell'unione fra gli elementi di x e y;\n",
    "- **in1d(x, y)** — Produce un array di booleani a indicare se ciascun elemento di x è contenuto in y **[UTILE PER BOOLEAN INDEXING]**;\n",
    "- **setdiff1d(x, y)** — Set difference. **Elementi di x che non sono presenti in y**;\n",
    "- **setxor1d(x, y)** — Set symmetric difference. **Elementi che sono in x e y, ma non entrambi**."
   ]
  },
  {
   "cell_type": "markdown",
   "metadata": {},
   "source": [
    "# Scientific Python: **Pandas**\n",
    "\n",
    "Comprendere e utilizzare appieno Pandas significa diventare confortevoli con le sue **due principali strutture dati**: *Series* e *Dataframe*."
   ]
  },
  {
   "cell_type": "code",
   "execution_count": null,
   "metadata": {},
   "outputs": [],
   "source": [
    "import pandas as pd\n",
    "import numpy as np"
   ]
  },
  {
   "cell_type": "markdown",
   "metadata": {},
   "source": [
    "## **Pandas** ***Series***\n",
    "\n",
    "### Inizializzazione\n",
    "\n",
    "In Pandas una *Serie* o *Series* è un array unidimensionale che **contiene una sequenza di valori e**, ad esso associato, **un array di etichette o** ***labels*** **definito** ***indice.*** La più semplice serie è formata da un unico array di dati:"
   ]
  },
  {
   "cell_type": "code",
   "execution_count": 13,
   "metadata": {},
   "outputs": [
    {
     "data": {
      "text/plain": [
       "0    4\n",
       "1    7\n",
       "2   -5\n",
       "3    3\n",
       "dtype: int64"
      ]
     },
     "execution_count": 13,
     "metadata": {},
     "output_type": "execute_result"
    }
   ],
   "source": [
    "serie = pd.Series([4, 7, -5, 3])\n",
    "serie       "
   ]
  },
  {
   "cell_type": "markdown",
   "metadata": {},
   "source": [
    "### Valori e Indici\n",
    "\n",
    "Quando non esplicitamente specificato, all'inizializzazione di una serie viene creato un **indice di default composto da interi che vanno da 0 a N-1**, dove **N** corrisponde alla lunghezza della serie. E' tuttavia desiderabile esplicitare un indice, così da identificare ciascun dato/osservazione con un'etichetta. In tal senso, è utile interpretare una Pandas Series come un **dizionario ordinato di lunghezza fissa**, in quanto è una mappatura di indici-valori."
   ]
  },
  {
   "cell_type": "code",
   "execution_count": 17,
   "metadata": {},
   "outputs": [
    {
     "data": {
      "text/plain": [
       "d    4\n",
       "b    7\n",
       "a   -5\n",
       "c    3\n",
       "dtype: int64"
      ]
     },
     "execution_count": 17,
     "metadata": {},
     "output_type": "execute_result"
    }
   ],
   "source": [
    "serie = pd.Series([4, 7, -5, 3], index = ['d', 'b', 'a', 'c'])\n",
    "serie"
   ]
  },
  {
   "cell_type": "markdown",
   "metadata": {},
   "source": [
    "Proprio come in un dizionario è possibile accedere al valore mediante il suo indice:"
   ]
  },
  {
   "cell_type": "code",
   "execution_count": 19,
   "metadata": {},
   "outputs": [
    {
     "data": {
      "text/plain": [
       "-5"
      ]
     },
     "execution_count": 19,
     "metadata": {},
     "output_type": "execute_result"
    }
   ],
   "source": [
    "serie['a']"
   ]
  },
  {
   "cell_type": "markdown",
   "metadata": {},
   "source": [
    "Si ottengono rispettivamente le rappresentazioni dei valori e degli indici mediante i relativi attributi:"
   ]
  },
  {
   "cell_type": "code",
   "execution_count": 20,
   "metadata": {},
   "outputs": [
    {
     "data": {
      "text/plain": [
       "(array([ 4,  7, -5,  3], dtype=int64),\n",
       " Index(['d', 'b', 'a', 'c'], dtype='object'))"
      ]
     },
     "execution_count": 20,
     "metadata": {},
     "output_type": "execute_result"
    }
   ],
   "source": [
    "serie.values, serie.index"
   ]
  },
  {
   "cell_type": "code",
   "execution_count": null,
   "metadata": {},
   "outputs": [],
   "source": []
  }
 ],
 "metadata": {
  "kernelspec": {
   "display_name": "Python 3",
   "language": "python",
   "name": "python3"
  },
  "language_info": {
   "codemirror_mode": {
    "name": "ipython",
    "version": 3
   },
   "file_extension": ".py",
   "mimetype": "text/x-python",
   "name": "python",
   "nbconvert_exporter": "python",
   "pygments_lexer": "ipython3",
   "version": "3.7.7"
  }
 },
 "nbformat": 4,
 "nbformat_minor": 4
}
