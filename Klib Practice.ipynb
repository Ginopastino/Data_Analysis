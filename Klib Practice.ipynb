{
 "cells": [
  {
   "cell_type": "markdown",
   "metadata": {},
   "source": [
    "### *Klib*\n",
    "\n",
    "#### **klib.describe()** — Functions for visualizing datasets:\n",
    "\n",
    "- **klib.cat_plot()** — Returns a visualization of the *number and frequency of categorical features*\n",
    "- **klib.corr_mat()** — Returns a *color-encoded correlation matrix*\n",
    "- **klib.corr_plot()** — Returns a *color-encoded heatmap*, ideal for correlations\n",
    "- **klib.dist_plot()** — Returns the *distribution plot for every scalar feature*\n",
    "- **klib.missingval_plot()** — Returns a figure containing *information about missing values*\n",
    "\n",
    "#### **klib.clean()** — Functions for Data Cleaning:\n",
    "\n",
    "- **klib.data_cleaning()** — *Drops duplicates & empty rows/columns, adjust dtypes, etc...* on a dataset\n",
    "- **klib.convert_datatypes()** — *Converts existing dtypes to more efficient ones*, also called inside **.data_cleaning()**\n",
    "- **klib.drop_missing()** — Drops missing values, also called in \".data_cleaning()\"\n",
    "- **klib.mv_col_handling()** — Drops features with a high ratio of missing values based on their informational content\n",
    "- **klib.pool_duplicate_subsets()** — pools a subset of columns based on duplicate values with minimal loss of information\n",
    "\n",
    "#### **klib.preprocess()** — Functions for Data Pre-Processiong (feature selection, scaling, ...):\n",
    "\n",
    "- **klib.train_dev_test_split()** — Splits a dataset and a label into train, optionally dev and test sets\n",
    "- **klib.feature_selection_pipe()** — Common operations for *feature selection*\n",
    "- **klib.num_pipe()** — Common *operations for preprocessing of numerical data*\n",
    "- **klib.cat_pipe()** — Common *operations for preprocessing of categorical data*\n",
    "- **klib.preprocess.ColumnSelector()** — Selects numerical or categorical columns, ideal for a Feature Union or Pipeline\n",
    "- **klib.preprocess.PipeInfo()** — Prints out the shape of the data at the specified step of a Pipeline"
   ]
  }
 ],
 "metadata": {
  "kernelspec": {
   "display_name": "Python 3",
   "language": "python",
   "name": "python3"
  },
  "language_info": {
   "codemirror_mode": {
    "name": "ipython",
    "version": 3
   },
   "file_extension": ".py",
   "mimetype": "text/x-python",
   "name": "python",
   "nbconvert_exporter": "python",
   "pygments_lexer": "ipython3",
   "version": "3.7.7"
  }
 },
 "nbformat": 4,
 "nbformat_minor": 4
}
